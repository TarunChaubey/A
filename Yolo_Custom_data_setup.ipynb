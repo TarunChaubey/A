{
  "nbformat": 4,
  "nbformat_minor": 0,
  "metadata": {
    "colab": {
      "name": "Yolo_Custom_data_setup.ipynb",
      "provenance": [],
      "authorship_tag": "ABX9TyM5Kdn+130t+cmyMvOKPTnr",
      "include_colab_link": true
    },
    "kernelspec": {
      "name": "python3",
      "display_name": "Python 3"
    },
    "language_info": {
      "name": "python"
    },
    "accelerator": "GPU"
  },
  "cells": [
    {
      "cell_type": "markdown",
      "metadata": {
        "id": "view-in-github",
        "colab_type": "text"
      },
      "source": [
        "<a href=\"https://colab.research.google.com/github/TarunChaubey/A/blob/master/Yolo_Custom_data_setup.ipynb\" target=\"_parent\"><img src=\"https://colab.research.google.com/assets/colab-badge.svg\" alt=\"Open In Colab\"/></a>"
      ]
    },
    {
      "cell_type": "markdown",
      "metadata": {
        "id": "jbDn7wbKFqU3"
      },
      "source": [
        "# **Yolo Setup**"
      ]
    },
    {
      "cell_type": "markdown",
      "metadata": {
        "id": "WddHftfB41tJ"
      },
      "source": [
        "Import File From Google Drive"
      ]
    },
    {
      "cell_type": "code",
      "metadata": {
        "colab": {
          "base_uri": "https://localhost:8080/"
        },
        "id": "TY8PxEDiOU7F",
        "outputId": "3197edc2-e95a-479a-bfe4-9915848249c3"
      },
      "source": [
        "from google.colab import drive\n",
        "drive.mount('/content/drive')"
      ],
      "execution_count": 1,
      "outputs": [
        {
          "output_type": "stream",
          "text": [
            "Mounted at /content/drive\n"
          ],
          "name": "stdout"
        }
      ]
    },
    {
      "cell_type": "markdown",
      "metadata": {
        "id": "bn2nTN2D5Fsh"
      },
      "source": [
        "**Create Yolo Folder inside**\n",
        "* Yolo\n",
        "  1. --custom_data\n",
        "  2. --Custom_weight\n",
        "  3. --backup"
      ]
    },
    {
      "cell_type": "code",
      "metadata": {
        "id": "aUMjxplf5w9S"
      },
      "source": [
        ""
      ],
      "execution_count": 1,
      "outputs": []
    },
    {
      "cell_type": "markdown",
      "metadata": {
        "id": "IHvrUyXt5yUP"
      },
      "source": [
        "Change Director by using %c 'path'\n",
        "\n",
        "*   %c  '/content/drive/MyDrive/Yolo'\n",
        "\n"
      ]
    },
    {
      "cell_type": "markdown",
      "metadata": {
        "id": "ClCLBTru6GqG"
      },
      "source": [
        "!ls used for see datafile inside current folder"
      ]
    },
    {
      "cell_type": "code",
      "metadata": {
        "colab": {
          "base_uri": "https://localhost:8080/"
        },
        "id": "HfWPBKpmgB4W",
        "outputId": "2ce3ba84-39a7-4b4c-922a-b62fce54d578"
      },
      "source": [
        "!ls '/content/drive/MyDrive/Yolo'"
      ],
      "execution_count": 2,
      "outputs": [
        {
          "output_type": "stream",
          "text": [
            "custom_data  custom_weight  darknet\n"
          ],
          "name": "stdout"
        }
      ]
    },
    {
      "cell_type": "markdown",
      "metadata": {
        "id": "TwOeawQd64kU"
      },
      "source": [
        ""
      ]
    },
    {
      "cell_type": "markdown",
      "metadata": {
        "id": "Dekv7wt66PHp"
      },
      "source": [
        "upload custom_data inside Yolo Folder"
      ]
    },
    {
      "cell_type": "markdown",
      "metadata": {
        "id": "f5QrR3IC6WIn"
      },
      "source": [
        "if datafile are in form of Zip then unzip if and move into\n",
        "custom_data folder"
      ]
    },
    {
      "cell_type": "markdown",
      "metadata": {
        "id": "As90Ti1u6nTU"
      },
      "source": [
        "Code   !unzip 'path/filename.zip' -d 'path/folder_in_witch_wanna_unzip'"
      ]
    },
    {
      "cell_type": "markdown",
      "metadata": {
        "id": "gl0LxfA0gjHM"
      },
      "source": [
        "Unzip Data file If Data File in the form of zip"
      ]
    },
    {
      "cell_type": "code",
      "metadata": {
        "colab": {
          "base_uri": "https://localhost:8080/"
        },
        "id": "j-O_1sgohEEE",
        "outputId": "db44c3dd-6e35-4384-9899-ca2038c240f9"
      },
      "source": [
        "%cd '/content/drive/MyDrive/Yolo'"
      ],
      "execution_count": 9,
      "outputs": [
        {
          "output_type": "stream",
          "text": [
            "/content/drive/MyDrive/Yolo\n"
          ],
          "name": "stdout"
        }
      ]
    },
    {
      "cell_type": "markdown",
      "metadata": {
        "id": "s_gfDI8e67Ks"
      },
      "source": [
        "clone darknet folder"
      ]
    },
    {
      "cell_type": "code",
      "metadata": {
        "colab": {
          "base_uri": "https://localhost:8080/"
        },
        "id": "VuStE8p9gSrD",
        "outputId": "fd36a777-6197-4859-9dab-d4f38af6817a"
      },
      "source": [
        "!git clone https://github.com/pjreddie/darknet"
      ],
      "execution_count": 11,
      "outputs": [
        {
          "output_type": "stream",
          "text": [
            "Cloning into 'darknet'...\n",
            "remote: Enumerating objects: 5934, done.\u001b[K\n",
            "remote: Total 5934 (delta 0), reused 0 (delta 0), pack-reused 5934\u001b[K\n",
            "Receiving objects: 100% (5934/5934), 6.35 MiB | 9.10 MiB/s, done.\n",
            "Resolving deltas: 100% (3924/3924), done.\n",
            "Checking out files: 100% (979/979), done.\n"
          ],
          "name": "stdout"
        }
      ]
    },
    {
      "cell_type": "markdown",
      "metadata": {
        "id": "gSSmGRJs7EAC"
      },
      "source": [
        "move to darknet folder"
      ]
    },
    {
      "cell_type": "code",
      "metadata": {
        "colab": {
          "base_uri": "https://localhost:8080/"
        },
        "id": "De0Oqq27hPJh",
        "outputId": "40c7d574-b28b-4569-8b08-538695b1c609"
      },
      "source": [
        "%cd darknet"
      ],
      "execution_count": 13,
      "outputs": [
        {
          "output_type": "stream",
          "text": [
            "/content/drive/My Drive/Yolo/darknet\n"
          ],
          "name": "stdout"
        }
      ]
    },
    {
      "cell_type": "markdown",
      "metadata": {
        "id": "z1VT-tgY7K6l"
      },
      "source": [
        "!make used to compile file"
      ]
    },
    {
      "cell_type": "code",
      "metadata": {
        "colab": {
          "base_uri": "https://localhost:8080/"
        },
        "id": "Gs1WouFIhaRO",
        "outputId": "d8cbd88b-6e39-4971-c6e8-30fbc0a8796e"
      },
      "source": [
        "!make"
      ],
      "execution_count": 15,
      "outputs": [
        {
          "output_type": "stream",
          "text": [
            "mkdir -p obj\n",
            "mkdir -p backup\n",
            "mkdir -p results\n",
            "gcc -Iinclude/ -Isrc/ -Wall -Wno-unused-result -Wno-unknown-pragmas -Wfatal-errors -fPIC -Ofast -c ./src/gemm.c -o obj/gemm.o\n",
            "gcc -Iinclude/ -Isrc/ -Wall -Wno-unused-result -Wno-unknown-pragmas -Wfatal-errors -fPIC -Ofast -c ./src/utils.c -o obj/utils.o\n",
            "gcc -Iinclude/ -Isrc/ -Wall -Wno-unused-result -Wno-unknown-pragmas -Wfatal-errors -fPIC -Ofast -c ./src/cuda.c -o obj/cuda.o\n",
            "gcc -Iinclude/ -Isrc/ -Wall -Wno-unused-result -Wno-unknown-pragmas -Wfatal-errors -fPIC -Ofast -c ./src/deconvolutional_layer.c -o obj/deconvolutional_layer.o\n",
            "gcc -Iinclude/ -Isrc/ -Wall -Wno-unused-result -Wno-unknown-pragmas -Wfatal-errors -fPIC -Ofast -c ./src/convolutional_layer.c -o obj/convolutional_layer.o\n",
            "gcc -Iinclude/ -Isrc/ -Wall -Wno-unused-result -Wno-unknown-pragmas -Wfatal-errors -fPIC -Ofast -c ./src/list.c -o obj/list.o\n",
            "gcc -Iinclude/ -Isrc/ -Wall -Wno-unused-result -Wno-unknown-pragmas -Wfatal-errors -fPIC -Ofast -c ./src/image.c -o obj/image.o\n",
            "gcc -Iinclude/ -Isrc/ -Wall -Wno-unused-result -Wno-unknown-pragmas -Wfatal-errors -fPIC -Ofast -c ./src/activations.c -o obj/activations.o\n",
            "gcc -Iinclude/ -Isrc/ -Wall -Wno-unused-result -Wno-unknown-pragmas -Wfatal-errors -fPIC -Ofast -c ./src/im2col.c -o obj/im2col.o\n",
            "gcc -Iinclude/ -Isrc/ -Wall -Wno-unused-result -Wno-unknown-pragmas -Wfatal-errors -fPIC -Ofast -c ./src/col2im.c -o obj/col2im.o\n",
            "gcc -Iinclude/ -Isrc/ -Wall -Wno-unused-result -Wno-unknown-pragmas -Wfatal-errors -fPIC -Ofast -c ./src/blas.c -o obj/blas.o\n",
            "gcc -Iinclude/ -Isrc/ -Wall -Wno-unused-result -Wno-unknown-pragmas -Wfatal-errors -fPIC -Ofast -c ./src/crop_layer.c -o obj/crop_layer.o\n",
            "gcc -Iinclude/ -Isrc/ -Wall -Wno-unused-result -Wno-unknown-pragmas -Wfatal-errors -fPIC -Ofast -c ./src/dropout_layer.c -o obj/dropout_layer.o\n",
            "gcc -Iinclude/ -Isrc/ -Wall -Wno-unused-result -Wno-unknown-pragmas -Wfatal-errors -fPIC -Ofast -c ./src/maxpool_layer.c -o obj/maxpool_layer.o\n",
            "gcc -Iinclude/ -Isrc/ -Wall -Wno-unused-result -Wno-unknown-pragmas -Wfatal-errors -fPIC -Ofast -c ./src/softmax_layer.c -o obj/softmax_layer.o\n",
            "gcc -Iinclude/ -Isrc/ -Wall -Wno-unused-result -Wno-unknown-pragmas -Wfatal-errors -fPIC -Ofast -c ./src/data.c -o obj/data.o\n",
            "gcc -Iinclude/ -Isrc/ -Wall -Wno-unused-result -Wno-unknown-pragmas -Wfatal-errors -fPIC -Ofast -c ./src/matrix.c -o obj/matrix.o\n",
            "gcc -Iinclude/ -Isrc/ -Wall -Wno-unused-result -Wno-unknown-pragmas -Wfatal-errors -fPIC -Ofast -c ./src/network.c -o obj/network.o\n",
            "gcc -Iinclude/ -Isrc/ -Wall -Wno-unused-result -Wno-unknown-pragmas -Wfatal-errors -fPIC -Ofast -c ./src/connected_layer.c -o obj/connected_layer.o\n",
            "gcc -Iinclude/ -Isrc/ -Wall -Wno-unused-result -Wno-unknown-pragmas -Wfatal-errors -fPIC -Ofast -c ./src/cost_layer.c -o obj/cost_layer.o\n",
            "gcc -Iinclude/ -Isrc/ -Wall -Wno-unused-result -Wno-unknown-pragmas -Wfatal-errors -fPIC -Ofast -c ./src/parser.c -o obj/parser.o\n",
            "gcc -Iinclude/ -Isrc/ -Wall -Wno-unused-result -Wno-unknown-pragmas -Wfatal-errors -fPIC -Ofast -c ./src/option_list.c -o obj/option_list.o\n",
            "gcc -Iinclude/ -Isrc/ -Wall -Wno-unused-result -Wno-unknown-pragmas -Wfatal-errors -fPIC -Ofast -c ./src/detection_layer.c -o obj/detection_layer.o\n",
            "gcc -Iinclude/ -Isrc/ -Wall -Wno-unused-result -Wno-unknown-pragmas -Wfatal-errors -fPIC -Ofast -c ./src/route_layer.c -o obj/route_layer.o\n",
            "gcc -Iinclude/ -Isrc/ -Wall -Wno-unused-result -Wno-unknown-pragmas -Wfatal-errors -fPIC -Ofast -c ./src/upsample_layer.c -o obj/upsample_layer.o\n",
            "gcc -Iinclude/ -Isrc/ -Wall -Wno-unused-result -Wno-unknown-pragmas -Wfatal-errors -fPIC -Ofast -c ./src/box.c -o obj/box.o\n",
            "gcc -Iinclude/ -Isrc/ -Wall -Wno-unused-result -Wno-unknown-pragmas -Wfatal-errors -fPIC -Ofast -c ./src/normalization_layer.c -o obj/normalization_layer.o\n",
            "gcc -Iinclude/ -Isrc/ -Wall -Wno-unused-result -Wno-unknown-pragmas -Wfatal-errors -fPIC -Ofast -c ./src/avgpool_layer.c -o obj/avgpool_layer.o\n",
            "gcc -Iinclude/ -Isrc/ -Wall -Wno-unused-result -Wno-unknown-pragmas -Wfatal-errors -fPIC -Ofast -c ./src/layer.c -o obj/layer.o\n",
            "gcc -Iinclude/ -Isrc/ -Wall -Wno-unused-result -Wno-unknown-pragmas -Wfatal-errors -fPIC -Ofast -c ./src/local_layer.c -o obj/local_layer.o\n",
            "gcc -Iinclude/ -Isrc/ -Wall -Wno-unused-result -Wno-unknown-pragmas -Wfatal-errors -fPIC -Ofast -c ./src/shortcut_layer.c -o obj/shortcut_layer.o\n",
            "gcc -Iinclude/ -Isrc/ -Wall -Wno-unused-result -Wno-unknown-pragmas -Wfatal-errors -fPIC -Ofast -c ./src/logistic_layer.c -o obj/logistic_layer.o\n",
            "gcc -Iinclude/ -Isrc/ -Wall -Wno-unused-result -Wno-unknown-pragmas -Wfatal-errors -fPIC -Ofast -c ./src/activation_layer.c -o obj/activation_layer.o\n",
            "gcc -Iinclude/ -Isrc/ -Wall -Wno-unused-result -Wno-unknown-pragmas -Wfatal-errors -fPIC -Ofast -c ./src/rnn_layer.c -o obj/rnn_layer.o\n",
            "gcc -Iinclude/ -Isrc/ -Wall -Wno-unused-result -Wno-unknown-pragmas -Wfatal-errors -fPIC -Ofast -c ./src/gru_layer.c -o obj/gru_layer.o\n",
            "gcc -Iinclude/ -Isrc/ -Wall -Wno-unused-result -Wno-unknown-pragmas -Wfatal-errors -fPIC -Ofast -c ./src/crnn_layer.c -o obj/crnn_layer.o\n",
            "gcc -Iinclude/ -Isrc/ -Wall -Wno-unused-result -Wno-unknown-pragmas -Wfatal-errors -fPIC -Ofast -c ./src/demo.c -o obj/demo.o\n",
            "gcc -Iinclude/ -Isrc/ -Wall -Wno-unused-result -Wno-unknown-pragmas -Wfatal-errors -fPIC -Ofast -c ./src/batchnorm_layer.c -o obj/batchnorm_layer.o\n",
            "gcc -Iinclude/ -Isrc/ -Wall -Wno-unused-result -Wno-unknown-pragmas -Wfatal-errors -fPIC -Ofast -c ./src/region_layer.c -o obj/region_layer.o\n",
            "gcc -Iinclude/ -Isrc/ -Wall -Wno-unused-result -Wno-unknown-pragmas -Wfatal-errors -fPIC -Ofast -c ./src/reorg_layer.c -o obj/reorg_layer.o\n",
            "gcc -Iinclude/ -Isrc/ -Wall -Wno-unused-result -Wno-unknown-pragmas -Wfatal-errors -fPIC -Ofast -c ./src/tree.c -o obj/tree.o\n",
            "gcc -Iinclude/ -Isrc/ -Wall -Wno-unused-result -Wno-unknown-pragmas -Wfatal-errors -fPIC -Ofast -c ./src/lstm_layer.c -o obj/lstm_layer.o\n",
            "gcc -Iinclude/ -Isrc/ -Wall -Wno-unused-result -Wno-unknown-pragmas -Wfatal-errors -fPIC -Ofast -c ./src/l2norm_layer.c -o obj/l2norm_layer.o\n",
            "gcc -Iinclude/ -Isrc/ -Wall -Wno-unused-result -Wno-unknown-pragmas -Wfatal-errors -fPIC -Ofast -c ./src/yolo_layer.c -o obj/yolo_layer.o\n",
            "gcc -Iinclude/ -Isrc/ -Wall -Wno-unused-result -Wno-unknown-pragmas -Wfatal-errors -fPIC -Ofast -c ./src/iseg_layer.c -o obj/iseg_layer.o\n",
            "g++ -Iinclude/ -Isrc/ -Wall -Wno-unused-result -Wno-unknown-pragmas -Wfatal-errors -fPIC -Ofast -c ./src/image_opencv.cpp -o obj/image_opencv.o\n",
            "gcc -Wall -Wno-unused-result -Wno-unknown-pragmas -Wfatal-errors -fPIC -Ofast -shared obj/gemm.o obj/utils.o obj/cuda.o obj/deconvolutional_layer.o obj/convolutional_layer.o obj/list.o obj/image.o obj/activations.o obj/im2col.o obj/col2im.o obj/blas.o obj/crop_layer.o obj/dropout_layer.o obj/maxpool_layer.o obj/softmax_layer.o obj/data.o obj/matrix.o obj/network.o obj/connected_layer.o obj/cost_layer.o obj/parser.o obj/option_list.o obj/detection_layer.o obj/route_layer.o obj/upsample_layer.o obj/box.o obj/normalization_layer.o obj/avgpool_layer.o obj/layer.o obj/local_layer.o obj/shortcut_layer.o obj/logistic_layer.o obj/activation_layer.o obj/rnn_layer.o obj/gru_layer.o obj/crnn_layer.o obj/demo.o obj/batchnorm_layer.o obj/region_layer.o obj/reorg_layer.o obj/tree.o obj/lstm_layer.o obj/l2norm_layer.o obj/yolo_layer.o obj/iseg_layer.o obj/image_opencv.o -o libdarknet.so -lm -pthread \n",
            "ar rcs libdarknet.a obj/gemm.o obj/utils.o obj/cuda.o obj/deconvolutional_layer.o obj/convolutional_layer.o obj/list.o obj/image.o obj/activations.o obj/im2col.o obj/col2im.o obj/blas.o obj/crop_layer.o obj/dropout_layer.o obj/maxpool_layer.o obj/softmax_layer.o obj/data.o obj/matrix.o obj/network.o obj/connected_layer.o obj/cost_layer.o obj/parser.o obj/option_list.o obj/detection_layer.o obj/route_layer.o obj/upsample_layer.o obj/box.o obj/normalization_layer.o obj/avgpool_layer.o obj/layer.o obj/local_layer.o obj/shortcut_layer.o obj/logistic_layer.o obj/activation_layer.o obj/rnn_layer.o obj/gru_layer.o obj/crnn_layer.o obj/demo.o obj/batchnorm_layer.o obj/region_layer.o obj/reorg_layer.o obj/tree.o obj/lstm_layer.o obj/l2norm_layer.o obj/yolo_layer.o obj/iseg_layer.o obj/image_opencv.o\n",
            "gcc -Iinclude/ -Isrc/ -Wall -Wno-unused-result -Wno-unknown-pragmas -Wfatal-errors -fPIC -Ofast -c ./examples/captcha.c -o obj/captcha.o\n",
            "gcc -Iinclude/ -Isrc/ -Wall -Wno-unused-result -Wno-unknown-pragmas -Wfatal-errors -fPIC -Ofast -c ./examples/lsd.c -o obj/lsd.o\n",
            "gcc -Iinclude/ -Isrc/ -Wall -Wno-unused-result -Wno-unknown-pragmas -Wfatal-errors -fPIC -Ofast -c ./examples/super.c -o obj/super.o\n",
            "gcc -Iinclude/ -Isrc/ -Wall -Wno-unused-result -Wno-unknown-pragmas -Wfatal-errors -fPIC -Ofast -c ./examples/art.c -o obj/art.o\n",
            "gcc -Iinclude/ -Isrc/ -Wall -Wno-unused-result -Wno-unknown-pragmas -Wfatal-errors -fPIC -Ofast -c ./examples/tag.c -o obj/tag.o\n",
            "gcc -Iinclude/ -Isrc/ -Wall -Wno-unused-result -Wno-unknown-pragmas -Wfatal-errors -fPIC -Ofast -c ./examples/cifar.c -o obj/cifar.o\n",
            "gcc -Iinclude/ -Isrc/ -Wall -Wno-unused-result -Wno-unknown-pragmas -Wfatal-errors -fPIC -Ofast -c ./examples/go.c -o obj/go.o\n",
            "gcc -Iinclude/ -Isrc/ -Wall -Wno-unused-result -Wno-unknown-pragmas -Wfatal-errors -fPIC -Ofast -c ./examples/rnn.c -o obj/rnn.o\n",
            "gcc -Iinclude/ -Isrc/ -Wall -Wno-unused-result -Wno-unknown-pragmas -Wfatal-errors -fPIC -Ofast -c ./examples/segmenter.c -o obj/segmenter.o\n",
            "gcc -Iinclude/ -Isrc/ -Wall -Wno-unused-result -Wno-unknown-pragmas -Wfatal-errors -fPIC -Ofast -c ./examples/regressor.c -o obj/regressor.o\n",
            "gcc -Iinclude/ -Isrc/ -Wall -Wno-unused-result -Wno-unknown-pragmas -Wfatal-errors -fPIC -Ofast -c ./examples/classifier.c -o obj/classifier.o\n",
            "gcc -Iinclude/ -Isrc/ -Wall -Wno-unused-result -Wno-unknown-pragmas -Wfatal-errors -fPIC -Ofast -c ./examples/coco.c -o obj/coco.o\n",
            "gcc -Iinclude/ -Isrc/ -Wall -Wno-unused-result -Wno-unknown-pragmas -Wfatal-errors -fPIC -Ofast -c ./examples/yolo.c -o obj/yolo.o\n",
            "gcc -Iinclude/ -Isrc/ -Wall -Wno-unused-result -Wno-unknown-pragmas -Wfatal-errors -fPIC -Ofast -c ./examples/detector.c -o obj/detector.o\n",
            "gcc -Iinclude/ -Isrc/ -Wall -Wno-unused-result -Wno-unknown-pragmas -Wfatal-errors -fPIC -Ofast -c ./examples/nightmare.c -o obj/nightmare.o\n",
            "gcc -Iinclude/ -Isrc/ -Wall -Wno-unused-result -Wno-unknown-pragmas -Wfatal-errors -fPIC -Ofast -c ./examples/instance-segmenter.c -o obj/instance-segmenter.o\n",
            "gcc -Iinclude/ -Isrc/ -Wall -Wno-unused-result -Wno-unknown-pragmas -Wfatal-errors -fPIC -Ofast -c ./examples/darknet.c -o obj/darknet.o\n",
            "gcc -Iinclude/ -Isrc/ -Wall -Wno-unused-result -Wno-unknown-pragmas -Wfatal-errors -fPIC -Ofast obj/captcha.o obj/lsd.o obj/super.o obj/art.o obj/tag.o obj/cifar.o obj/go.o obj/rnn.o obj/segmenter.o obj/regressor.o obj/classifier.o obj/coco.o obj/yolo.o obj/detector.o obj/nightmare.o obj/instance-segmenter.o obj/darknet.o libdarknet.a -o darknet -lm -pthread  libdarknet.a\n"
          ],
          "name": "stdout"
        }
      ]
    },
    {
      "cell_type": "code",
      "metadata": {
        "colab": {
          "base_uri": "https://localhost:8080/"
        },
        "id": "1rWQXV5lhgzh",
        "outputId": "d8309ecf-312f-4122-f20c-0bc0c04d3a42"
      },
      "source": [
        "%cd '/content/drive/MyDrive/Yolo'"
      ],
      "execution_count": 4,
      "outputs": [
        {
          "output_type": "stream",
          "text": [
            "/content/drive/MyDrive/Yolo\n"
          ],
          "name": "stdout"
        }
      ]
    },
    {
      "cell_type": "markdown",
      "metadata": {
        "id": "zmOf-U7fF6Cm"
      },
      "source": [
        "\n",
        "\n",
        "1.   Make Copy of classes and save with classess.names\n",
        "2.   move creating-files-data-and-name.py and creating-train-and-test-txt-files.py and classess.names into custom_data folder\n",
        "\n"
      ]
    },
    {
      "cell_type": "markdown",
      "metadata": {
        "id": "iLQoVyGXGQFx"
      },
      "source": [
        "Change directory location Yolo(Root Folder)"
      ]
    },
    {
      "cell_type": "code",
      "metadata": {
        "id": "O81bXWqejMwk"
      },
      "source": [
        "!python custom_data/creating-files-data-and-name.py"
      ],
      "execution_count": 17,
      "outputs": []
    },
    {
      "cell_type": "code",
      "metadata": {
        "id": "EZuXljAhjUG6"
      },
      "source": [
        "!python custom_data/creating-train-and-test-txt-files.py"
      ],
      "execution_count": 18,
      "outputs": []
    },
    {
      "cell_type": "code",
      "metadata": {
        "colab": {
          "base_uri": "https://localhost:8080/"
        },
        "id": "ZhxiZrESj-La",
        "outputId": "119078fb-aa33-47d5-8228-6dffa6086a46"
      },
      "source": [
        "%cd '/content/drive/MyDrive/Yolo'"
      ],
      "execution_count": 5,
      "outputs": [
        {
          "output_type": "stream",
          "text": [
            "/content/drive/MyDrive/Yolo\n"
          ],
          "name": "stdout"
        }
      ]
    },
    {
      "cell_type": "code",
      "metadata": {
        "colab": {
          "base_uri": "https://localhost:8080/"
        },
        "id": "X6cWPN4QjgyT",
        "outputId": "0ccdba83-72fa-4374-e522-d9df41f30648"
      },
      "source": [
        "!wget https://pjreddie.com/media/files/darknet53.conv.74"
      ],
      "execution_count": 20,
      "outputs": [
        {
          "output_type": "stream",
          "text": [
            "--2021-05-29 05:19:24--  https://pjreddie.com/media/files/darknet53.conv.74\n",
            "Resolving pjreddie.com (pjreddie.com)... 128.208.4.108\n",
            "Connecting to pjreddie.com (pjreddie.com)|128.208.4.108|:443... connected.\n",
            "HTTP request sent, awaiting response... 200 OK\n",
            "Length: 162482580 (155M) [application/octet-stream]\n",
            "Saving to: ‘darknet53.conv.74’\n",
            "\n",
            "darknet53.conv.74   100%[===================>] 154.96M  58.9MB/s    in 2.6s    \n",
            "\n",
            "2021-05-29 05:19:27 (58.9 MB/s) - ‘darknet53.conv.74’ saved [162482580/162482580]\n",
            "\n"
          ],
          "name": "stdout"
        }
      ]
    },
    {
      "cell_type": "code",
      "metadata": {
        "colab": {
          "base_uri": "https://localhost:8080/"
        },
        "id": "Yjh7fhUfkA4w",
        "outputId": "d2339b58-6a6e-4d96-e008-a6b9602b576f"
      },
      "source": [
        "!ls"
      ],
      "execution_count": 6,
      "outputs": [
        {
          "output_type": "stream",
          "text": [
            "custom_data  custom_weight  darknet\n"
          ],
          "name": "stdout"
        }
      ]
    },
    {
      "cell_type": "markdown",
      "metadata": {
        "id": "jSKLAY_woNhG"
      },
      "source": [
        "To Chekc all requirement are ok or not"
      ]
    },
    {
      "cell_type": "code",
      "metadata": {
        "colab": {
          "base_uri": "https://localhost:8080/"
        },
        "id": "zutaqJshl7j_",
        "outputId": "e094d805-7556-449c-e645-f99955790b8a"
      },
      "source": [
        "!darknet/darknet"
      ],
      "execution_count": 7,
      "outputs": [
        {
          "output_type": "stream",
          "text": [
            "/bin/bash: darknet/darknet: Permission denied\n"
          ],
          "name": "stdout"
        }
      ]
    },
    {
      "cell_type": "markdown",
      "metadata": {
        "id": "HmM2fbQPoU4c"
      },
      "source": [
        "Train Model"
      ]
    },
    {
      "cell_type": "markdown",
      "metadata": {
        "id": "jGloOfvuFpM6"
      },
      "source": [
        ""
      ]
    },
    {
      "cell_type": "code",
      "metadata": {
        "colab": {
          "base_uri": "https://localhost:8080/"
        },
        "id": "9ZT79-S3oL8y",
        "outputId": "a3ada3e6-bc81-4592-95b1-7be4f77d5bff"
      },
      "source": [
        "!darknet/darknet detector train custom_data/labelled_data.data darknet/cfg/yolov3_custom.cfg custom_weight/darknet53.conv.74 -dont_show"
      ],
      "execution_count": 32,
      "outputs": [
        {
          "output_type": "stream",
          "text": [
            "yolov3_custom\n",
            "layer     filters    size              input                output\n",
            "    0 conv     32  3 x 3 / 1   180 x 180 x   3   ->   180 x 180 x  32  0.056 BFLOPs\n",
            "    1 conv     64  3 x 3 / 2   180 x 180 x  32   ->    90 x  90 x  64  0.299 BFLOPs\n",
            "    2 conv     32  1 x 1 / 1    90 x  90 x  64   ->    90 x  90 x  32  0.033 BFLOPs\n",
            "    3 conv     64  3 x 3 / 1    90 x  90 x  32   ->    90 x  90 x  64  0.299 BFLOPs\n",
            "    4 res    1                  90 x  90 x  64   ->    90 x  90 x  64\n",
            "    5 conv    128  3 x 3 / 2    90 x  90 x  64   ->    45 x  45 x 128  0.299 BFLOPs\n",
            "    6 conv     64  1 x 1 / 1    45 x  45 x 128   ->    45 x  45 x  64  0.033 BFLOPs\n",
            "    7 conv    128  3 x 3 / 1    45 x  45 x  64   ->    45 x  45 x 128  0.299 BFLOPs\n",
            "    8 res    5                  45 x  45 x 128   ->    45 x  45 x 128\n",
            "    9 conv     64  1 x 1 / 1    45 x  45 x 128   ->    45 x  45 x  64  0.033 BFLOPs\n",
            "   10 conv    128  3 x 3 / 1    45 x  45 x  64   ->    45 x  45 x 128  0.299 BFLOPs\n",
            "   11 res    8                  45 x  45 x 128   ->    45 x  45 x 128\n",
            "   12 conv    256  3 x 3 / 2    45 x  45 x 128   ->    23 x  23 x 256  0.312 BFLOPs\n",
            "   13 conv    128  1 x 1 / 1    23 x  23 x 256   ->    23 x  23 x 128  0.035 BFLOPs\n",
            "   14 conv    256  3 x 3 / 1    23 x  23 x 128   ->    23 x  23 x 256  0.312 BFLOPs\n",
            "   15 res   12                  23 x  23 x 256   ->    23 x  23 x 256\n",
            "   16 conv    128  1 x 1 / 1    23 x  23 x 256   ->    23 x  23 x 128  0.035 BFLOPs\n",
            "   17 conv    256  3 x 3 / 1    23 x  23 x 128   ->    23 x  23 x 256  0.312 BFLOPs\n",
            "   18 res   15                  23 x  23 x 256   ->    23 x  23 x 256\n",
            "   19 conv    128  1 x 1 / 1    23 x  23 x 256   ->    23 x  23 x 128  0.035 BFLOPs\n",
            "   20 conv    256  3 x 3 / 1    23 x  23 x 128   ->    23 x  23 x 256  0.312 BFLOPs\n",
            "   21 res   18                  23 x  23 x 256   ->    23 x  23 x 256\n",
            "   22 conv    128  1 x 1 / 1    23 x  23 x 256   ->    23 x  23 x 128  0.035 BFLOPs\n",
            "   23 conv    256  3 x 3 / 1    23 x  23 x 128   ->    23 x  23 x 256  0.312 BFLOPs\n",
            "   24 res   21                  23 x  23 x 256   ->    23 x  23 x 256\n",
            "   25 conv    128  1 x 1 / 1    23 x  23 x 256   ->    23 x  23 x 128  0.035 BFLOPs\n",
            "   26 conv    256  3 x 3 / 1    23 x  23 x 128   ->    23 x  23 x 256  0.312 BFLOPs\n",
            "   27 res   24                  23 x  23 x 256   ->    23 x  23 x 256\n",
            "   28 conv    128  1 x 1 / 1    23 x  23 x 256   ->    23 x  23 x 128  0.035 BFLOPs\n",
            "   29 conv    256  3 x 3 / 1    23 x  23 x 128   ->    23 x  23 x 256  0.312 BFLOPs\n",
            "   30 res   27                  23 x  23 x 256   ->    23 x  23 x 256\n",
            "   31 conv    128  1 x 1 / 1    23 x  23 x 256   ->    23 x  23 x 128  0.035 BFLOPs\n",
            "   32 conv    256  3 x 3 / 1    23 x  23 x 128   ->    23 x  23 x 256  0.312 BFLOPs\n",
            "   33 res   30                  23 x  23 x 256   ->    23 x  23 x 256\n",
            "   34 conv    128  1 x 1 / 1    23 x  23 x 256   ->    23 x  23 x 128  0.035 BFLOPs\n",
            "   35 conv    256  3 x 3 / 1    23 x  23 x 128   ->    23 x  23 x 256  0.312 BFLOPs\n",
            "   36 res   33                  23 x  23 x 256   ->    23 x  23 x 256\n",
            "   37 conv    512  3 x 3 / 2    23 x  23 x 256   ->    12 x  12 x 512  0.340 BFLOPs\n",
            "   38 conv    256  1 x 1 / 1    12 x  12 x 512   ->    12 x  12 x 256  0.038 BFLOPs\n",
            "   39 conv    512  3 x 3 / 1    12 x  12 x 256   ->    12 x  12 x 512  0.340 BFLOPs\n",
            "   40 res   37                  12 x  12 x 512   ->    12 x  12 x 512\n",
            "   41 conv    256  1 x 1 / 1    12 x  12 x 512   ->    12 x  12 x 256  0.038 BFLOPs\n",
            "   42 conv    512  3 x 3 / 1    12 x  12 x 256   ->    12 x  12 x 512  0.340 BFLOPs\n",
            "   43 res   40                  12 x  12 x 512   ->    12 x  12 x 512\n",
            "   44 conv    256  1 x 1 / 1    12 x  12 x 512   ->    12 x  12 x 256  0.038 BFLOPs\n",
            "   45 conv    512  3 x 3 / 1    12 x  12 x 256   ->    12 x  12 x 512  0.340 BFLOPs\n",
            "   46 res   43                  12 x  12 x 512   ->    12 x  12 x 512\n",
            "   47 conv    256  1 x 1 / 1    12 x  12 x 512   ->    12 x  12 x 256  0.038 BFLOPs\n",
            "   48 conv    512  3 x 3 / 1    12 x  12 x 256   ->    12 x  12 x 512  0.340 BFLOPs\n",
            "   49 res   46                  12 x  12 x 512   ->    12 x  12 x 512\n",
            "   50 conv    256  1 x 1 / 1    12 x  12 x 512   ->    12 x  12 x 256  0.038 BFLOPs\n",
            "   51 conv    512  3 x 3 / 1    12 x  12 x 256   ->    12 x  12 x 512  0.340 BFLOPs\n",
            "   52 res   49                  12 x  12 x 512   ->    12 x  12 x 512\n",
            "   53 conv    256  1 x 1 / 1    12 x  12 x 512   ->    12 x  12 x 256  0.038 BFLOPs\n",
            "   54 conv    512  3 x 3 / 1    12 x  12 x 256   ->    12 x  12 x 512  0.340 BFLOPs\n",
            "   55 res   52                  12 x  12 x 512   ->    12 x  12 x 512\n",
            "   56 conv    256  1 x 1 / 1    12 x  12 x 512   ->    12 x  12 x 256  0.038 BFLOPs\n",
            "   57 conv    512  3 x 3 / 1    12 x  12 x 256   ->    12 x  12 x 512  0.340 BFLOPs\n",
            "   58 res   55                  12 x  12 x 512   ->    12 x  12 x 512\n",
            "   59 conv    256  1 x 1 / 1    12 x  12 x 512   ->    12 x  12 x 256  0.038 BFLOPs\n",
            "   60 conv    512  3 x 3 / 1    12 x  12 x 256   ->    12 x  12 x 512  0.340 BFLOPs\n",
            "   61 res   58                  12 x  12 x 512   ->    12 x  12 x 512\n",
            "   62 conv   1024  3 x 3 / 2    12 x  12 x 512   ->     6 x   6 x1024  0.340 BFLOPs\n",
            "   63 conv    512  1 x 1 / 1     6 x   6 x1024   ->     6 x   6 x 512  0.038 BFLOPs\n",
            "   64 conv   1024  3 x 3 / 1     6 x   6 x 512   ->     6 x   6 x1024  0.340 BFLOPs\n",
            "   65 res   62                   6 x   6 x1024   ->     6 x   6 x1024\n",
            "   66 conv    512  1 x 1 / 1     6 x   6 x1024   ->     6 x   6 x 512  0.038 BFLOPs\n",
            "   67 conv   1024  3 x 3 / 1     6 x   6 x 512   ->     6 x   6 x1024  0.340 BFLOPs\n",
            "   68 res   65                   6 x   6 x1024   ->     6 x   6 x1024\n",
            "   69 conv    512  1 x 1 / 1     6 x   6 x1024   ->     6 x   6 x 512  0.038 BFLOPs\n",
            "   70 conv   1024  3 x 3 / 1     6 x   6 x 512   ->     6 x   6 x1024  0.340 BFLOPs\n",
            "   71 res   68                   6 x   6 x1024   ->     6 x   6 x1024\n",
            "   72 conv    512  1 x 1 / 1     6 x   6 x1024   ->     6 x   6 x 512  0.038 BFLOPs\n",
            "   73 conv   1024  3 x 3 / 1     6 x   6 x 512   ->     6 x   6 x1024  0.340 BFLOPs\n",
            "   74 res   71                   6 x   6 x1024   ->     6 x   6 x1024\n",
            "   75 conv    512  1 x 1 / 1     6 x   6 x1024   ->     6 x   6 x 512  0.038 BFLOPs\n",
            "   76 conv   1024  3 x 3 / 1     6 x   6 x 512   ->     6 x   6 x1024  0.340 BFLOPs\n",
            "   77 conv    512  1 x 1 / 1     6 x   6 x1024   ->     6 x   6 x 512  0.038 BFLOPs\n",
            "   78 conv   1024  3 x 3 / 1     6 x   6 x 512   ->     6 x   6 x1024  0.340 BFLOPs\n",
            "   79 conv    512  1 x 1 / 1     6 x   6 x1024   ->     6 x   6 x 512  0.038 BFLOPs\n",
            "   80 conv   1024  3 x 3 / 1     6 x   6 x 512   ->     6 x   6 x1024  0.340 BFLOPs\n",
            "   81 conv     21  1 x 1 / 1     6 x   6 x1024   ->     6 x   6 x  21  0.002 BFLOPs\n",
            "   82 yolo\n",
            "   83 route  79\n",
            "   84 conv    256  1 x 1 / 1     6 x   6 x 512   ->     6 x   6 x 256  0.009 BFLOPs\n",
            "   85 upsample            2x     6 x   6 x 256   ->    12 x  12 x 256\n",
            "   86 route  85 61\n",
            "   87 conv    256  1 x 1 / 1    12 x  12 x 768   ->    12 x  12 x 256  0.057 BFLOPs\n",
            "   88 conv    512  3 x 3 / 1    12 x  12 x 256   ->    12 x  12 x 512  0.340 BFLOPs\n",
            "   89 conv    256  1 x 1 / 1    12 x  12 x 512   ->    12 x  12 x 256  0.038 BFLOPs\n",
            "   90 conv    512  3 x 3 / 1    12 x  12 x 256   ->    12 x  12 x 512  0.340 BFLOPs\n",
            "   91 conv    256  1 x 1 / 1    12 x  12 x 512   ->    12 x  12 x 256  0.038 BFLOPs\n",
            "   92 conv    512  3 x 3 / 1    12 x  12 x 256   ->    12 x  12 x 512  0.340 BFLOPs\n",
            "   93 conv     21  1 x 1 / 1    12 x  12 x 512   ->    12 x  12 x  21  0.003 BFLOPs\n",
            "   94 yolo\n",
            "   95 route  91\n",
            "   96 conv    128  1 x 1 / 1    12 x  12 x 256   ->    12 x  12 x 128  0.009 BFLOPs\n",
            "   97 upsample            2x    12 x  12 x 128   ->    24 x  24 x 128\n",
            "   98 route  97 36\n",
            "   99 Layer before convolutional layer must output image.: Invalid argument\n",
            "darknet: ./src/utils.c:256: error: Assertion `0' failed.\n"
          ],
          "name": "stdout"
        }
      ]
    },
    {
      "cell_type": "code",
      "metadata": {
        "id": "fIaBzMGSpA9i"
      },
      "source": [
        ""
      ],
      "execution_count": null,
      "outputs": []
    }
  ]
}