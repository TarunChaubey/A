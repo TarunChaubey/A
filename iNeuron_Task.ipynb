{
  "nbformat": 4,
  "nbformat_minor": 0,
  "metadata": {
    "colab": {
      "name": "iNeuron_Task.ipynb",
      "provenance": [],
      "collapsed_sections": [],
      "authorship_tag": "ABX9TyNDDPPxqf0BBfrsPM9imp1d",
      "include_colab_link": true
    },
    "kernelspec": {
      "name": "python3",
      "display_name": "Python 3"
    },
    "language_info": {
      "name": "python"
    }
  },
  "cells": [
    {
      "cell_type": "markdown",
      "metadata": {
        "id": "view-in-github",
        "colab_type": "text"
      },
      "source": [
        "<a href=\"https://colab.research.google.com/github/TarunChaubey/A/blob/master/iNeuron_Task.ipynb\" target=\"_parent\"><img src=\"https://colab.research.google.com/assets/colab-badge.svg\" alt=\"Open In Colab\"/></a>"
      ]
    },
    {
      "cell_type": "markdown",
      "metadata": {
        "id": "RIbAOtyd6qWe"
      },
      "source": [
        "# Problem Statement"
      ]
    },
    {
      "cell_type": "markdown",
      "metadata": {
        "id": "eqwbf-hS6zTr"
      },
      "source": [
        "1.Analyse the dataset and perform some basic EDA and pre-processing. Once EDA has done, plot a graph for performance metrics and obtain the best result.\n",
        "2.The minimum r2 score should be 0.84. Along with this also consider the various other metrics such as RMSE, MAE, and MSE.\n",
        "\n"
      ]
    },
    {
      "cell_type": "code",
      "metadata": {
        "id": "3wy1lWgPjVQ_"
      },
      "source": [
        "import pandas as pd\n",
        "import numpy as np\n",
        "import seaborn as sns\n",
        "import matplotlib.pyplot as plt\n",
        "from lightgbm import LGBMRegressor\n",
        "sns.set_style('whitegrid')"
      ],
      "execution_count": 1,
      "outputs": []
    },
    {
      "cell_type": "code",
      "metadata": {
        "id": "Y8d4-nnFrXlp"
      },
      "source": [
        "from datetime import date\n",
        "todays_date = date.today()"
      ],
      "execution_count": 2,
      "outputs": []
    },
    {
      "cell_type": "code",
      "metadata": {
        "id": "r8y0w3NnymiU"
      },
      "source": [
        "import scipy\n",
        "from scipy.stats import zscore"
      ],
      "execution_count": 3,
      "outputs": []
    },
    {
      "cell_type": "code",
      "metadata": {
        "id": "NlwFKm6k-u-e"
      },
      "source": [
        "from sklearn.linear_model import LinearRegression\n",
        "from sklearn.ensemble import ExtraTreesRegressor,GradientBoostingRegressor,RandomForestRegressor\n",
        "from sklearn.tree import DecisionTreeRegressor\n",
        "from sklearn.preprocessing import LabelEncoder\n",
        "from sklearn.model_selection import train_test_split\n",
        "from sklearn.metrics import r2_score,mean_squared_error,mean_absolute_error"
      ],
      "execution_count": 4,
      "outputs": []
    },
    {
      "cell_type": "code",
      "metadata": {
        "colab": {
          "base_uri": "https://localhost:8080/"
        },
        "id": "Roz9m_Kpklip",
        "outputId": "a9eb3900-3340-4314-c270-fe4af6a781ec"
      },
      "source": [
        "from google.colab import drive\n",
        "drive.mount('/content/drive')"
      ],
      "execution_count": 5,
      "outputs": [
        {
          "output_type": "stream",
          "text": [
            "Mounted at /content/drive\n"
          ],
          "name": "stdout"
        }
      ]
    },
    {
      "cell_type": "code",
      "metadata": {
        "colab": {
          "base_uri": "https://localhost:8080/"
        },
        "id": "irdRhehikyaN",
        "outputId": "8b961738-af51-4197-9882-bee368593862"
      },
      "source": [
        "df = pd.read_csv('/content/drive/MyDrive/otomoto_price_prediction_data.csv')\n",
        "df.shape"
      ],
      "execution_count": 6,
      "outputs": [
        {
          "output_type": "execute_result",
          "data": {
            "text/plain": [
              "(206207, 11)"
            ]
          },
          "metadata": {
            "tags": []
          },
          "execution_count": 6
        }
      ]
    },
    {
      "cell_type": "code",
      "metadata": {
        "colab": {
          "base_uri": "https://localhost:8080/",
          "height": 206
        },
        "id": "3ces5zSgliS4",
        "outputId": "a100413a-c9bd-4ef8-e068-7aadbe7c94db"
      },
      "source": [
        "df.head()"
      ],
      "execution_count": 7,
      "outputs": [
        {
          "output_type": "execute_result",
          "data": {
            "text/html": [
              "<div>\n",
              "<style scoped>\n",
              "    .dataframe tbody tr th:only-of-type {\n",
              "        vertical-align: middle;\n",
              "    }\n",
              "\n",
              "    .dataframe tbody tr th {\n",
              "        vertical-align: top;\n",
              "    }\n",
              "\n",
              "    .dataframe thead th {\n",
              "        text-align: right;\n",
              "    }\n",
              "</style>\n",
              "<table border=\"1\" class=\"dataframe\">\n",
              "  <thead>\n",
              "    <tr style=\"text-align: right;\">\n",
              "      <th></th>\n",
              "      <th>make</th>\n",
              "      <th>model</th>\n",
              "      <th>vehicle_year</th>\n",
              "      <th>mileage</th>\n",
              "      <th>engine_capacity</th>\n",
              "      <th>engine_power</th>\n",
              "      <th>gearbox</th>\n",
              "      <th>fuel_type</th>\n",
              "      <th>damaged</th>\n",
              "      <th>is_business</th>\n",
              "      <th>target_price</th>\n",
              "    </tr>\n",
              "  </thead>\n",
              "  <tbody>\n",
              "    <tr>\n",
              "      <th>0</th>\n",
              "      <td>audi</td>\n",
              "      <td>a6</td>\n",
              "      <td>2013</td>\n",
              "      <td>153817.0</td>\n",
              "      <td>1984.0</td>\n",
              "      <td>180.0</td>\n",
              "      <td>automatic</td>\n",
              "      <td>petrol</td>\n",
              "      <td>0</td>\n",
              "      <td>0</td>\n",
              "      <td>69900.0</td>\n",
              "    </tr>\n",
              "    <tr>\n",
              "      <th>1</th>\n",
              "      <td>skoda</td>\n",
              "      <td>fabia</td>\n",
              "      <td>2004</td>\n",
              "      <td>115000.0</td>\n",
              "      <td>1390.0</td>\n",
              "      <td>75.0</td>\n",
              "      <td>manual</td>\n",
              "      <td>petrol</td>\n",
              "      <td>0</td>\n",
              "      <td>1</td>\n",
              "      <td>8299.0</td>\n",
              "    </tr>\n",
              "    <tr>\n",
              "      <th>2</th>\n",
              "      <td>chevrolet</td>\n",
              "      <td>camaro</td>\n",
              "      <td>2012</td>\n",
              "      <td>299000.0</td>\n",
              "      <td>3600.0</td>\n",
              "      <td>323.0</td>\n",
              "      <td>automatic</td>\n",
              "      <td>petrol</td>\n",
              "      <td>0</td>\n",
              "      <td>1</td>\n",
              "      <td>54500.0</td>\n",
              "    </tr>\n",
              "    <tr>\n",
              "      <th>3</th>\n",
              "      <td>bmw</td>\n",
              "      <td>seria-3</td>\n",
              "      <td>2013</td>\n",
              "      <td>155000.0</td>\n",
              "      <td>1995.0</td>\n",
              "      <td>163.0</td>\n",
              "      <td>automatic</td>\n",
              "      <td>diesel</td>\n",
              "      <td>0</td>\n",
              "      <td>0</td>\n",
              "      <td>62000.0</td>\n",
              "    </tr>\n",
              "    <tr>\n",
              "      <th>4</th>\n",
              "      <td>renault</td>\n",
              "      <td>talisman</td>\n",
              "      <td>2017</td>\n",
              "      <td>167000.0</td>\n",
              "      <td>1600.0</td>\n",
              "      <td>130.0</td>\n",
              "      <td>automatic</td>\n",
              "      <td>diesel</td>\n",
              "      <td>0</td>\n",
              "      <td>1</td>\n",
              "      <td>52999.0</td>\n",
              "    </tr>\n",
              "  </tbody>\n",
              "</table>\n",
              "</div>"
            ],
            "text/plain": [
              "        make     model  vehicle_year  ...  damaged  is_business  target_price\n",
              "0       audi        a6          2013  ...        0            0       69900.0\n",
              "1      skoda     fabia          2004  ...        0            1        8299.0\n",
              "2  chevrolet    camaro          2012  ...        0            1       54500.0\n",
              "3        bmw   seria-3          2013  ...        0            0       62000.0\n",
              "4    renault  talisman          2017  ...        0            1       52999.0\n",
              "\n",
              "[5 rows x 11 columns]"
            ]
          },
          "metadata": {
            "tags": []
          },
          "execution_count": 7
        }
      ]
    },
    {
      "cell_type": "code",
      "metadata": {
        "colab": {
          "base_uri": "https://localhost:8080/"
        },
        "id": "LQYfPWyTllxQ",
        "outputId": "b7f2efdb-a235-4aed-9748-075bd32b42c7"
      },
      "source": [
        "df.isnull().sum()"
      ],
      "execution_count": 8,
      "outputs": [
        {
          "output_type": "execute_result",
          "data": {
            "text/plain": [
              "make                  0\n",
              "model                 0\n",
              "vehicle_year          0\n",
              "mileage            1354\n",
              "engine_capacity    2178\n",
              "engine_power       1579\n",
              "gearbox            1365\n",
              "fuel_type             0\n",
              "damaged               0\n",
              "is_business           0\n",
              "target_price          0\n",
              "dtype: int64"
            ]
          },
          "metadata": {
            "tags": []
          },
          "execution_count": 8
        }
      ]
    },
    {
      "cell_type": "markdown",
      "metadata": {
        "id": "1jywyd8O5jjo"
      },
      "source": [
        "Null value in the form of percentage"
      ]
    },
    {
      "cell_type": "code",
      "metadata": {
        "colab": {
          "base_uri": "https://localhost:8080/"
        },
        "id": "sVat42QlmjFH",
        "outputId": "589b69b1-e249-412d-b7d6-fd76bea2a276"
      },
      "source": [
        "df.isnull().sum()*100/df.shape[0]"
      ],
      "execution_count": 9,
      "outputs": [
        {
          "output_type": "execute_result",
          "data": {
            "text/plain": [
              "make               0.000000\n",
              "model              0.000000\n",
              "vehicle_year       0.000000\n",
              "mileage            0.656622\n",
              "engine_capacity    1.056220\n",
              "engine_power       0.765735\n",
              "gearbox            0.661956\n",
              "fuel_type          0.000000\n",
              "damaged            0.000000\n",
              "is_business        0.000000\n",
              "target_price       0.000000\n",
              "dtype: float64"
            ]
          },
          "metadata": {
            "tags": []
          },
          "execution_count": 9
        }
      ]
    },
    {
      "cell_type": "code",
      "metadata": {
        "colab": {
          "base_uri": "https://localhost:8080/"
        },
        "id": "ERC4A4q2nVbe",
        "outputId": "deca69e9-a66c-46c4-f886-ba317f47e541"
      },
      "source": [
        "df.dtypes"
      ],
      "execution_count": 10,
      "outputs": [
        {
          "output_type": "execute_result",
          "data": {
            "text/plain": [
              "make                object\n",
              "model               object\n",
              "vehicle_year         int64\n",
              "mileage            float64\n",
              "engine_capacity    float64\n",
              "engine_power       float64\n",
              "gearbox             object\n",
              "fuel_type           object\n",
              "damaged              int64\n",
              "is_business          int64\n",
              "target_price       float64\n",
              "dtype: object"
            ]
          },
          "metadata": {
            "tags": []
          },
          "execution_count": 10
        }
      ]
    },
    {
      "cell_type": "markdown",
      "metadata": {
        "id": "wBalB6kp4oTb"
      },
      "source": [
        "Datasets consist of 206207*11 i.e 206207 row and 11 columns\n",
        "in which columns named mileage,engine_capacity,engine_power,gearbox has some null value and data type of null columns are float64(mileage,engine_capacity,engine_power) and object respectively"
      ]
    },
    {
      "cell_type": "code",
      "metadata": {
        "colab": {
          "base_uri": "https://localhost:8080/",
          "height": 300
        },
        "id": "IDSYF8DBm7xw",
        "outputId": "85fa1ca1-1b2e-40bc-88a2-7e2127a9bab2"
      },
      "source": [
        "df.describe()"
      ],
      "execution_count": 11,
      "outputs": [
        {
          "output_type": "execute_result",
          "data": {
            "text/html": [
              "<div>\n",
              "<style scoped>\n",
              "    .dataframe tbody tr th:only-of-type {\n",
              "        vertical-align: middle;\n",
              "    }\n",
              "\n",
              "    .dataframe tbody tr th {\n",
              "        vertical-align: top;\n",
              "    }\n",
              "\n",
              "    .dataframe thead th {\n",
              "        text-align: right;\n",
              "    }\n",
              "</style>\n",
              "<table border=\"1\" class=\"dataframe\">\n",
              "  <thead>\n",
              "    <tr style=\"text-align: right;\">\n",
              "      <th></th>\n",
              "      <th>vehicle_year</th>\n",
              "      <th>mileage</th>\n",
              "      <th>engine_capacity</th>\n",
              "      <th>engine_power</th>\n",
              "      <th>damaged</th>\n",
              "      <th>is_business</th>\n",
              "      <th>target_price</th>\n",
              "    </tr>\n",
              "  </thead>\n",
              "  <tbody>\n",
              "    <tr>\n",
              "      <th>count</th>\n",
              "      <td>206207.000000</td>\n",
              "      <td>2.048530e+05</td>\n",
              "      <td>204029.000000</td>\n",
              "      <td>204628.000000</td>\n",
              "      <td>206207.000000</td>\n",
              "      <td>206207.000000</td>\n",
              "      <td>2.062070e+05</td>\n",
              "    </tr>\n",
              "    <tr>\n",
              "      <th>mean</th>\n",
              "      <td>2012.313855</td>\n",
              "      <td>6.656787e+05</td>\n",
              "      <td>1865.096922</td>\n",
              "      <td>151.300301</td>\n",
              "      <td>0.038059</td>\n",
              "      <td>0.600038</td>\n",
              "      <td>6.273519e+04</td>\n",
              "    </tr>\n",
              "    <tr>\n",
              "      <th>std</th>\n",
              "      <td>6.453940</td>\n",
              "      <td>2.040768e+08</td>\n",
              "      <td>708.559717</td>\n",
              "      <td>76.915073</td>\n",
              "      <td>0.191339</td>\n",
              "      <td>0.489891</td>\n",
              "      <td>8.604596e+04</td>\n",
              "    </tr>\n",
              "    <tr>\n",
              "      <th>min</th>\n",
              "      <td>1917.000000</td>\n",
              "      <td>1.000000e+00</td>\n",
              "      <td>400.000000</td>\n",
              "      <td>1.000000</td>\n",
              "      <td>0.000000</td>\n",
              "      <td>0.000000</td>\n",
              "      <td>6.000000e+02</td>\n",
              "    </tr>\n",
              "    <tr>\n",
              "      <th>25%</th>\n",
              "      <td>2008.000000</td>\n",
              "      <td>4.500000e+04</td>\n",
              "      <td>1461.000000</td>\n",
              "      <td>105.000000</td>\n",
              "      <td>0.000000</td>\n",
              "      <td>0.000000</td>\n",
              "      <td>1.799900e+04</td>\n",
              "    </tr>\n",
              "    <tr>\n",
              "      <th>50%</th>\n",
              "      <td>2013.000000</td>\n",
              "      <td>1.378500e+05</td>\n",
              "      <td>1797.000000</td>\n",
              "      <td>136.000000</td>\n",
              "      <td>0.000000</td>\n",
              "      <td>1.000000</td>\n",
              "      <td>3.590000e+04</td>\n",
              "    </tr>\n",
              "    <tr>\n",
              "      <th>75%</th>\n",
              "      <td>2017.000000</td>\n",
              "      <td>1.990000e+05</td>\n",
              "      <td>1997.000000</td>\n",
              "      <td>170.000000</td>\n",
              "      <td>0.000000</td>\n",
              "      <td>1.000000</td>\n",
              "      <td>7.490000e+04</td>\n",
              "    </tr>\n",
              "    <tr>\n",
              "      <th>max</th>\n",
              "      <td>2021.000000</td>\n",
              "      <td>9.060612e+10</td>\n",
              "      <td>8400.000000</td>\n",
              "      <td>1500.000000</td>\n",
              "      <td>1.000000</td>\n",
              "      <td>1.000000</td>\n",
              "      <td>5.250000e+06</td>\n",
              "    </tr>\n",
              "  </tbody>\n",
              "</table>\n",
              "</div>"
            ],
            "text/plain": [
              "        vehicle_year       mileage  ...    is_business  target_price\n",
              "count  206207.000000  2.048530e+05  ...  206207.000000  2.062070e+05\n",
              "mean     2012.313855  6.656787e+05  ...       0.600038  6.273519e+04\n",
              "std         6.453940  2.040768e+08  ...       0.489891  8.604596e+04\n",
              "min      1917.000000  1.000000e+00  ...       0.000000  6.000000e+02\n",
              "25%      2008.000000  4.500000e+04  ...       0.000000  1.799900e+04\n",
              "50%      2013.000000  1.378500e+05  ...       1.000000  3.590000e+04\n",
              "75%      2017.000000  1.990000e+05  ...       1.000000  7.490000e+04\n",
              "max      2021.000000  9.060612e+10  ...       1.000000  5.250000e+06\n",
              "\n",
              "[8 rows x 7 columns]"
            ]
          },
          "metadata": {
            "tags": []
          },
          "execution_count": 11
        }
      ]
    },
    {
      "cell_type": "code",
      "metadata": {
        "colab": {
          "base_uri": "https://localhost:8080/"
        },
        "id": "1kcy3GWZ5unG",
        "outputId": "f30e7172-4590-495e-99de-96dc1be4e1b6"
      },
      "source": [
        "#To get only those columns from datasets which has some null value in columns\n",
        "df.columns[df.isnull().any() == True]"
      ],
      "execution_count": 12,
      "outputs": [
        {
          "output_type": "execute_result",
          "data": {
            "text/plain": [
              "Index(['mileage', 'engine_capacity', 'engine_power', 'gearbox'], dtype='object')"
            ]
          },
          "metadata": {
            "tags": []
          },
          "execution_count": 12
        }
      ]
    },
    {
      "cell_type": "code",
      "metadata": {
        "colab": {
          "base_uri": "https://localhost:8080/"
        },
        "id": "y8sVGLaIrjNn",
        "outputId": "6ff4a672-2505-4ba4-a1f8-cc423396b858"
      },
      "source": [
        "# To check unique element of null column\n",
        "for col in df.columns[df.isnull().any()]:\n",
        "  print(col,\":\\n\",df[col].unique())"
      ],
      "execution_count": 13,
      "outputs": [
        {
          "output_type": "stream",
          "text": [
            "mileage :\n",
            " [153817. 115000. 299000. ... 170548.  44826. 250948.]\n",
            "engine_capacity :\n",
            " [1984. 1390. 3600. ... 1111. 3986. 4638.]\n",
            "engine_power :\n",
            " [1.800e+02 7.500e+01 3.230e+02 1.630e+02 1.300e+02 1.500e+02 1.700e+02\n",
            " 1.010e+02 9.000e+01 1.400e+02 1.090e+02 1.050e+02 2.200e+02 8.800e+01\n",
            " 2.520e+02 1.600e+02 2.330e+02 1.450e+02 1.320e+02 1.150e+02 3.600e+02\n",
            " 6.800e+01 6.900e+01 1.560e+02 5.070e+02 2.310e+02 1.100e+02 1.650e+02\n",
            " 1.360e+02 9.900e+01 1.000e+02 1.350e+02 8.500e+01 1.070e+02 1.550e+02\n",
            " 6.000e+01 1.750e+02 1.900e+02 9.500e+01 5.000e+01 1.840e+02 2.540e+02\n",
            " 6.500e+01 1.160e+02 2.000e+02 1.200e+02 2.770e+02 2.830e+02 9.200e+01\n",
            " 5.800e+01 1.310e+02 2.580e+02 1.430e+02 1.790e+02 1.220e+02 1.280e+02\n",
            " 1.520e+02 2.250e+02 1.250e+02 4.070e+02 2.720e+02 1.470e+02 1.110e+02\n",
            " 1.770e+02 9.800e+01 2.450e+02 3.100e+02 1.210e+02 2.420e+02 1.910e+02\n",
            " 2.040e+02 1.420e+02 1.170e+02 2.180e+02 9.600e+01 2.490e+02       nan\n",
            " 1.120e+02 1.970e+02 1.410e+02 8.600e+01 3.740e+02 8.300e+01 2.650e+02\n",
            " 1.020e+02 2.100e+02 8.200e+01 8.100e+01 3.490e+02 7.700e+01 1.950e+02\n",
            " 1.850e+02 2.600e+02 1.180e+02 2.050e+02 1.140e+02 3.670e+02 2.130e+02\n",
            " 7.000e+01 2.110e+02 8.000e+01 1.660e+02 2.020e+02 1.260e+02 2.800e+02\n",
            " 4.050e+02 3.300e+02 3.400e+02 1.780e+02 2.750e+02 2.220e+02 7.300e+01\n",
            " 2.150e+02 2.080e+02 1.460e+02 6.600e+01 3.780e+02 6.100e+02 1.820e+02\n",
            " 2.240e+02 5.100e+02 1.290e+02 2.500e+02 7.100e+01 6.250e+02 8.400e+01\n",
            " 5.400e+01 1.830e+02 2.430e+02 2.480e+02 6.100e+01 1.230e+02 3.170e+02\n",
            " 1.690e+02 3.340e+02 2.860e+02 3.050e+02 1.640e+02 4.500e+01 8.700e+01\n",
            " 3.060e+02 2.640e+02 9.700e+01 4.350e+02 3.330e+02 3.410e+02 4.000e+02\n",
            " 6.700e+01 4.620e+02 1.940e+02 2.300e+02 4.570e+02 1.490e+02 2.950e+02\n",
            " 2.400e+02 4.200e+02 5.300e+02 4.230e+02 3.200e+02 1.240e+02 3.070e+02\n",
            " 1.510e+02 6.050e+02 4.210e+02 1.130e+02 4.100e+02 9.400e+01 1.080e+02\n",
            " 3.900e+02 1.380e+02 1.760e+02 3.850e+02 2.760e+02 4.010e+02 4.500e+02\n",
            " 2.350e+02 1.920e+02 5.190e+02 4.890e+02 2.360e+02 2.380e+02 7.200e+01\n",
            " 5.500e+01 5.500e+02 1.730e+02 1.330e+02 7.800e+01 9.100e+01 2.700e+02\n",
            " 1.590e+02 1.670e+02 2.870e+02 6.000e+02 3.130e+02 6.120e+02 4.530e+02\n",
            " 3.540e+02 2.920e+02 6.400e+01 1.870e+02 4.000e+01 6.500e+02 3.720e+02\n",
            " 4.000e+00 1.740e+02 5.750e+02 1.060e+02 2.840e+02 1.340e+02 2.410e+02\n",
            " 2.280e+02 3.040e+02 1.580e+02 1.930e+02 7.400e+01 3.260e+02 5.200e+01\n",
            " 2.470e+02 4.600e+02 3.280e+02 2.030e+02 3.810e+02 4.280e+02 6.200e+01\n",
            " 3.500e+02 5.000e+00 7.600e+01 1.810e+02 2.010e+02 1.390e+02 1.030e+02\n",
            " 3.940e+02 3.000e+02 5.170e+02 5.100e+01 3.390e+02 2.230e+02 1.880e+02\n",
            " 2.660e+02 4.560e+02 4.080e+02 5.140e+02 5.250e+02 4.310e+02 4.550e+02\n",
            " 1.100e+01 3.870e+02 5.700e+01 3.030e+02 5.710e+02 2.440e+02 4.120e+02\n",
            " 3.350e+02 2.620e+02 3.150e+02 7.170e+02 3.440e+02 2.370e+02 2.850e+02\n",
            " 5.900e+01 3.450e+02 1.890e+02 3.550e+02 2.530e+02 1.960e+02 1.710e+02\n",
            " 3.880e+02 1.000e+00 3.800e+02 5.850e+02 4.800e+01 5.520e+02 2.400e+01\n",
            " 2.170e+02 6.300e+01 3.510e+02 2.550e+02 3.360e+02 8.000e+02 2.390e+02\n",
            " 4.680e+02 9.300e+01 3.100e+01 2.210e+02 2.560e+02 2.510e+02 2.780e+02\n",
            " 2.820e+02 3.420e+02 1.990e+02 1.440e+02 4.400e+02 4.100e+01 6.090e+02\n",
            " 4.750e+02 2.990e+02 4.220e+02 7.970e+02 2.140e+02 2.900e+02 4.760e+02\n",
            " 3.700e+02 3.470e+02 2.090e+02 4.090e+02 3.640e+02 4.300e+02 2.980e+02\n",
            " 1.570e+02 3.650e+02 4.690e+02 5.220e+02 2.070e+02 2.890e+02 3.660e+02\n",
            " 1.610e+02 5.000e+02 1.720e+02 2.460e+02 1.040e+02 1.680e+02 1.000e+03\n",
            " 1.860e+02 8.000e+00 4.170e+02 2.270e+02 4.770e+02 2.690e+02 5.300e+01\n",
            " 2.340e+02 3.520e+02 5.600e+02 5.840e+02 1.980e+02 7.610e+02 4.820e+02\n",
            " 1.530e+02 2.790e+02 4.400e+01 5.550e+02 2.100e+01 7.200e+02 2.610e+02\n",
            " 6.390e+02 6.350e+02 4.040e+02 3.980e+02 2.960e+02 4.450e+02 3.430e+02\n",
            " 1.370e+02 4.800e+02 1.190e+02 5.200e+02 6.700e+02 5.480e+02 2.940e+02\n",
            " 4.250e+02 3.190e+02 3.180e+02 2.160e+02 3.090e+02 4.160e+02 3.400e+01\n",
            " 8.900e+01 3.220e+02 5.700e+02 2.630e+02 3.000e+01 2.730e+02 7.900e+01\n",
            " 2.910e+02 7.000e+00 2.320e+02 3.750e+02 3.790e+02 2.600e+01 6.600e+02\n",
            " 1.540e+02 2.300e+01 2.260e+02 3.950e+02 3.900e+01 4.660e+02 5.610e+02\n",
            " 4.440e+02 4.920e+02 2.710e+02 6.300e+02 2.680e+02 2.570e+02 3.210e+02\n",
            " 5.570e+02 3.140e+02 3.820e+02 6.080e+02 2.120e+02 7.150e+02 6.590e+02\n",
            " 3.250e+02 3.110e+02 4.110e+02 3.080e+02 4.880e+02 2.190e+02 1.350e+03\n",
            " 3.990e+02 5.400e+02 2.670e+02 6.260e+02 4.870e+02 3.760e+02 6.800e+02\n",
            " 6.200e+02 3.860e+02 2.200e+01 4.700e+02 1.480e+02 6.660e+02 1.200e+01\n",
            " 3.290e+02 6.000e+00 1.270e+02 3.120e+02 4.850e+02 3.630e+02 6.320e+02\n",
            " 4.600e+01 5.800e+02 3.010e+02 6.900e+02 5.210e+02 4.810e+02 4.900e+02\n",
            " 7.400e+02 2.800e+01 1.700e+01 4.490e+02 5.270e+02 5.790e+02 6.400e+02\n",
            " 1.620e+02 2.880e+02 5.600e+01 2.810e+02 5.810e+02 3.320e+02 1.000e+01\n",
            " 3.680e+02 1.800e+01 4.980e+02 3.700e+01 4.060e+02 3.590e+02 4.150e+02\n",
            " 3.160e+02 5.390e+02 4.320e+02 5.580e+02 2.000e+01 4.520e+02 4.650e+02\n",
            " 1.100e+03 4.260e+02 5.510e+02 5.040e+02 3.960e+02 3.840e+02 5.440e+02\n",
            " 6.060e+02 5.640e+02 4.410e+02 6.130e+02 1.500e+01 7.000e+02 3.620e+02\n",
            " 3.730e+02 7.280e+02 5.230e+02 5.730e+02 6.240e+02 5.690e+02 2.900e+01\n",
            " 7.720e+02 4.580e+02 2.700e+01 3.710e+02 7.500e+02 5.630e+02 1.400e+03\n",
            " 6.750e+02 5.080e+02 5.150e+02 4.020e+02 7.100e+02 5.050e+02 8.850e+02\n",
            " 4.200e+01 5.240e+02 3.610e+02 9.000e+02 7.270e+02 1.500e+03 5.030e+02\n",
            " 3.240e+02 4.860e+02 2.590e+02 5.060e+02 2.740e+02 7.700e+02 3.770e+02\n",
            " 5.120e+02 9.000e+00 6.210e+02 4.630e+02 5.900e+02 3.890e+02 5.330e+02\n",
            " 7.990e+02 7.300e+02 5.370e+02 5.280e+02 4.430e+02 5.180e+02 4.180e+02\n",
            " 1.140e+03 2.060e+02 4.640e+02 3.310e+02 2.500e+01 5.110e+02 4.940e+02\n",
            " 3.600e+01 7.620e+02 4.360e+02 4.700e+01 4.380e+02 4.900e+01 5.130e+02\n",
            " 5.320e+02 3.370e+02 3.800e+01 3.200e+01 6.110e+02 5.560e+02 1.400e+01\n",
            " 3.530e+02 3.830e+02 4.270e+02 4.950e+02 5.620e+02 3.690e+02 5.020e+02\n",
            " 2.970e+02 5.340e+02 3.500e+01 5.650e+02 3.020e+02 1.300e+01 3.570e+02\n",
            " 1.236e+03 2.290e+02 1.200e+03 7.600e+02 1.499e+03 4.790e+02 1.600e+01\n",
            " 7.120e+02 6.160e+02 4.420e+02 4.140e+02 2.930e+02 3.460e+02]\n",
            "gearbox :\n",
            " ['automatic' 'manual' 'cvt' 'dual-clutch' nan 'automatic-stepless'\n",
            " 'semi-automatic' 'automated-manual' 'automatic-sequential'\n",
            " 'automatic-stepless-sequential' 'manual-sequential']\n"
          ],
          "name": "stdout"
        }
      ]
    },
    {
      "cell_type": "code",
      "metadata": {
        "colab": {
          "base_uri": "https://localhost:8080/"
        },
        "id": "qMcgBKGynqwH",
        "outputId": "edc732cc-2f60-4821-cf43-caff38788893"
      },
      "source": [
        "#unique value of null columns\n",
        "for col in df.columns[df.isnull().any()]:\n",
        "  print(col,\":\\n\",df[col].value_counts())"
      ],
      "execution_count": 14,
      "outputs": [
        {
          "output_type": "stream",
          "text": [
            "mileage :\n",
            " 1.0         8712\n",
            "5.0         7430\n",
            "10.0        3189\n",
            "2.0         1239\n",
            "180000.0    1180\n",
            "            ... \n",
            "170508.0       1\n",
            "118020.0       1\n",
            "25679.0        1\n",
            "170502.0       1\n",
            "156490.0       1\n",
            "Name: mileage, Length: 51008, dtype: int64\n",
            "engine_capacity :\n",
            " 1598.0    14284\n",
            "1968.0    12029\n",
            "1995.0     9724\n",
            "1997.0     8509\n",
            "1998.0     8134\n",
            "          ...  \n",
            "903.0         1\n",
            "6651.0        1\n",
            "1301.0        1\n",
            "5242.0        1\n",
            "4952.0        1\n",
            "Name: engine_capacity, Length: 1194, dtype: int64\n",
            "engine_power :\n",
            " 150.0     17399\n",
            "140.0     11273\n",
            "110.0      8000\n",
            "115.0      7334\n",
            "90.0       6933\n",
            "          ...  \n",
            "1140.0        1\n",
            "488.0         1\n",
            "728.0         1\n",
            "369.0         1\n",
            "1200.0        1\n",
            "Name: engine_power, Length: 572, dtype: int64\n",
            "gearbox :\n",
            " manual                           133598\n",
            "automatic                         67034\n",
            "dual-clutch                        2331\n",
            "cvt                                1742\n",
            "semi-automatic                       83\n",
            "automatic-stepless                   31\n",
            "automatic-sequential                  9\n",
            "automated-manual                      7\n",
            "automatic-stepless-sequential         6\n",
            "manual-sequential                     1\n",
            "Name: gearbox, dtype: int64\n"
          ],
          "name": "stdout"
        }
      ]
    },
    {
      "cell_type": "code",
      "metadata": {
        "colab": {
          "base_uri": "https://localhost:8080/",
          "height": 353
        },
        "id": "ynHgBuZm9mo-",
        "outputId": "3c4da0e5-4a30-4ece-a881-11935305a876"
      },
      "source": [
        "sns.scatterplot(df['engine_power'],df['mileage'])\n",
        "plt.title('Mileage Vs Engine_Power')\n",
        "plt.show()\n",
        "# most of the vehicle mileage less than 2 and only few vehicle has more than 2 mileage and it suppose to be outliers"
      ],
      "execution_count": 15,
      "outputs": [
        {
          "output_type": "stream",
          "text": [
            "/usr/local/lib/python3.7/dist-packages/seaborn/_decorators.py:43: FutureWarning: Pass the following variables as keyword args: x, y. From version 0.12, the only valid positional argument will be `data`, and passing other arguments without an explicit keyword will result in an error or misinterpretation.\n",
            "  FutureWarning\n"
          ],
          "name": "stderr"
        },
        {
          "output_type": "display_data",
          "data": {
            "image/png": "[encoded data removed]",
            "text/plain": [
              "<Figure size 432x288 with 1 Axes>"
            ]
          },
          "metadata": {
            "tags": [],
            "needs_background": "light"
          }
        }
      ]
    },
    {
      "cell_type": "code",
      "metadata": {
        "colab": {
          "base_uri": "https://localhost:8080/",
          "height": 353
        },
        "id": "S1XITXkR9x-S",
        "outputId": "fae4cbcf-eebe-42e4-8028-0cf2641d3517"
      },
      "source": [
        "sns.scatterplot(df['vehicle_year'],df['mileage'])\n",
        "plt.title('Mileage Vs Engine_Power')\n",
        "plt.show()\n",
        "# most of the vehicle mileage less than 2 and only few vehicle has more than 2 mileage and it suppose to be outliers"
      ],
      "execution_count": 16,
      "outputs": [
        {
          "output_type": "stream",
          "text": [
            "/usr/local/lib/python3.7/dist-packages/seaborn/_decorators.py:43: FutureWarning: Pass the following variables as keyword args: x, y. From version 0.12, the only valid positional argument will be `data`, and passing other arguments without an explicit keyword will result in an error or misinterpretation.\n",
            "  FutureWarning\n"
          ],
          "name": "stderr"
        },
        {
          "output_type": "display_data",
          "data": {
            "image/png": "[encoded data removed]",
            "text/plain": [
              "<Figure size 432x288 with 1 Axes>"
            ]
          },
          "metadata": {
            "tags": [],
            "needs_background": "light"
          }
        }
      ]
    },
    {
      "cell_type": "code",
      "metadata": {
        "id": "etE4Lf89UOHl"
      },
      "source": [
        "# Handle Missing Value\n",
        "df['mileage'].fillna(df['mileage'].mean(),inplace = True)\n",
        "df['engine_capacity'].fillna(df['engine_capacity'].mean(),inplace = True)\n",
        "df['engine_power'].fillna(df['engine_power'].mean(),inplace = True)\n",
        "df['gearbox'].fillna(f\"{df['gearbox'].mode()}\",inplace = True)"
      ],
      "execution_count": 17,
      "outputs": []
    },
    {
      "cell_type": "code",
      "metadata": {
        "colab": {
          "base_uri": "https://localhost:8080/",
          "height": 414
        },
        "id": "3RJzXDVvW4Jz",
        "outputId": "edeca1eb-1317-41c5-f098-083584cae015"
      },
      "source": [
        "sns.countplot(df['gearbox'])\n",
        "plt.xticks(rotation = 30)\n",
        "plt.show()"
      ],
      "execution_count": 18,
      "outputs": [
        {
          "output_type": "stream",
          "text": [
            "/usr/local/lib/python3.7/dist-packages/seaborn/_decorators.py:43: FutureWarning: Pass the following variable as a keyword arg: x. From version 0.12, the only valid positional argument will be `data`, and passing other arguments without an explicit keyword will result in an error or misinterpretation.\n",
            "  FutureWarning\n"
          ],
          "name": "stderr"
        },
        {
          "output_type": "display_data",
          "data": {
            "image/png": "[encoded data removed]",
            "text/plain": [
              "<Figure size 432x288 with 1 Axes>"
            ]
          },
          "metadata": {
            "tags": [],
            "needs_background": "light"
          }
        }
      ]
    },
    {
      "cell_type": "code",
      "metadata": {
        "colab": {
          "base_uri": "https://localhost:8080/",
          "height": 361
        },
        "id": "-OsPGSwrcPFr",
        "outputId": "189c4b59-2771-47e4-cf79-259997041a63"
      },
      "source": [
        "sns.countplot(df['fuel_type'])\n",
        "plt.xticks(rotation = 30)\n",
        "plt.show()"
      ],
      "execution_count": 19,
      "outputs": [
        {
          "output_type": "stream",
          "text": [
            "/usr/local/lib/python3.7/dist-packages/seaborn/_decorators.py:43: FutureWarning: Pass the following variable as a keyword arg: x. From version 0.12, the only valid positional argument will be `data`, and passing other arguments without an explicit keyword will result in an error or misinterpretation.\n",
            "  FutureWarning\n"
          ],
          "name": "stderr"
        },
        {
          "output_type": "display_data",
          "data": {
            "image/png": "[encoded data removed]",
            "text/plain": [
              "<Figure size 432x288 with 1 Axes>"
            ]
          },
          "metadata": {
            "tags": [],
            "needs_background": "light"
          }
        }
      ]
    },
    {
      "cell_type": "code",
      "metadata": {
        "colab": {
          "base_uri": "https://localhost:8080/",
          "height": 355
        },
        "id": "L6FK85trdKH7",
        "outputId": "afbf1029-d8b4-4031-e5d2-edf07c1c76ad"
      },
      "source": [
        "sns.boxplot(df['mileage'])"
      ],
      "execution_count": 20,
      "outputs": [
        {
          "output_type": "stream",
          "text": [
            "/usr/local/lib/python3.7/dist-packages/seaborn/_decorators.py:43: FutureWarning: Pass the following variable as a keyword arg: x. From version 0.12, the only valid positional argument will be `data`, and passing other arguments without an explicit keyword will result in an error or misinterpretation.\n",
            "  FutureWarning\n"
          ],
          "name": "stderr"
        },
        {
          "output_type": "execute_result",
          "data": {
            "text/plain": [
              "<matplotlib.axes._subplots.AxesSubplot at 0x7f86d5b87950>"
            ]
          },
          "metadata": {
            "tags": []
          },
          "execution_count": 20
        },
        {
          "output_type": "display_data",
          "data": {
            "image/png": "[encoded data removed]",
            "text/plain": [
              "<Figure size 432x288 with 1 Axes>"
            ]
          },
          "metadata": {
            "tags": [],
            "needs_background": "light"
          }
        }
      ]
    },
    {
      "cell_type": "code",
      "metadata": {
        "colab": {
          "base_uri": "https://localhost:8080/",
          "height": 356
        },
        "id": "e2gx-0gyoZfl",
        "outputId": "2c41ae29-e06e-4e9c-f5ed-5baa6a113aae"
      },
      "source": [
        "sns.boxplot(df['engine_capacity'])"
      ],
      "execution_count": 21,
      "outputs": [
        {
          "output_type": "stream",
          "text": [
            "/usr/local/lib/python3.7/dist-packages/seaborn/_decorators.py:43: FutureWarning: Pass the following variable as a keyword arg: x. From version 0.12, the only valid positional argument will be `data`, and passing other arguments without an explicit keyword will result in an error or misinterpretation.\n",
            "  FutureWarning\n"
          ],
          "name": "stderr"
        },
        {
          "output_type": "execute_result",
          "data": {
            "text/plain": [
              "<matplotlib.axes._subplots.AxesSubplot at 0x7f86d4a431d0>"
            ]
          },
          "metadata": {
            "tags": []
          },
          "execution_count": 21
        },
        {
          "output_type": "display_data",
          "data": {
            "image/png": "[encoded data removed]",
            "text/plain": [
              "<Figure size 432x288 with 1 Axes>"
            ]
          },
          "metadata": {
            "tags": [],
            "needs_background": "light"
          }
        }
      ]
    },
    {
      "cell_type": "code",
      "metadata": {
        "colab": {
          "base_uri": "https://localhost:8080/",
          "height": 356
        },
        "id": "XyNTVq51oZx0",
        "outputId": "13531d30-d26a-4509-f2c5-050774802ce1"
      },
      "source": [
        "sns.boxplot(df['target_price'])"
      ],
      "execution_count": 22,
      "outputs": [
        {
          "output_type": "stream",
          "text": [
            "/usr/local/lib/python3.7/dist-packages/seaborn/_decorators.py:43: FutureWarning: Pass the following variable as a keyword arg: x. From version 0.12, the only valid positional argument will be `data`, and passing other arguments without an explicit keyword will result in an error or misinterpretation.\n",
            "  FutureWarning\n"
          ],
          "name": "stderr"
        },
        {
          "output_type": "execute_result",
          "data": {
            "text/plain": [
              "<matplotlib.axes._subplots.AxesSubplot at 0x7f86d4a30a10>"
            ]
          },
          "metadata": {
            "tags": []
          },
          "execution_count": 22
        },
        {
          "output_type": "display_data",
          "data": {
            "image/png": "[encoded data removed]",
            "text/plain": [
              "<Figure size 432x288 with 1 Axes>"
            ]
          },
          "metadata": {
            "tags": [],
            "needs_background": "light"
          }
        }
      ]
    },
    {
      "cell_type": "code",
      "metadata": {
        "colab": {
          "base_uri": "https://localhost:8080/",
          "height": 356
        },
        "id": "KmdW-zg0orEh",
        "outputId": "2645cd4e-8747-4af9-8df7-97c86b55093a"
      },
      "source": [
        "sns.boxplot(df['engine_power'])"
      ],
      "execution_count": 23,
      "outputs": [
        {
          "output_type": "stream",
          "text": [
            "/usr/local/lib/python3.7/dist-packages/seaborn/_decorators.py:43: FutureWarning: Pass the following variable as a keyword arg: x. From version 0.12, the only valid positional argument will be `data`, and passing other arguments without an explicit keyword will result in an error or misinterpretation.\n",
            "  FutureWarning\n"
          ],
          "name": "stderr"
        },
        {
          "output_type": "execute_result",
          "data": {
            "text/plain": [
              "<matplotlib.axes._subplots.AxesSubplot at 0x7f86db8fac50>"
            ]
          },
          "metadata": {
            "tags": []
          },
          "execution_count": 23
        },
        {
          "output_type": "display_data",
          "data": {
            "image/png": "[encoded data removed]",
            "text/plain": [
              "<Figure size 432x288 with 1 Axes>"
            ]
          },
          "metadata": {
            "tags": [],
            "needs_background": "light"
          }
        }
      ]
    },
    {
      "cell_type": "code",
      "metadata": {
        "id": "lOsPmV8UCJWN"
      },
      "source": [
        "# All Above 4 Graph show that ouliers exist"
      ],
      "execution_count": 24,
      "outputs": []
    },
    {
      "cell_type": "code",
      "metadata": {
        "colab": {
          "base_uri": "https://localhost:8080/",
          "height": 371
        },
        "id": "CfH80akHoy6l",
        "outputId": "5fb024a6-62bf-44b3-a0c0-ecbea7b6d897"
      },
      "source": [
        "sns.countplot(df['damaged'])\n",
        "plt.title('Damaged')"
      ],
      "execution_count": 25,
      "outputs": [
        {
          "output_type": "stream",
          "text": [
            "/usr/local/lib/python3.7/dist-packages/seaborn/_decorators.py:43: FutureWarning: Pass the following variable as a keyword arg: x. From version 0.12, the only valid positional argument will be `data`, and passing other arguments without an explicit keyword will result in an error or misinterpretation.\n",
            "  FutureWarning\n"
          ],
          "name": "stderr"
        },
        {
          "output_type": "execute_result",
          "data": {
            "text/plain": [
              "Text(0.5, 1.0, 'Damaged')"
            ]
          },
          "metadata": {
            "tags": []
          },
          "execution_count": 25
        },
        {
          "output_type": "display_data",
          "data": {
            "image/png": "[encoded data removed]",
            "text/plain": [
              "<Figure size 432x288 with 1 Axes>"
            ]
          },
          "metadata": {
            "tags": [],
            "needs_background": "light"
          }
        }
      ]
    },
    {
      "cell_type": "code",
      "metadata": {
        "colab": {
          "base_uri": "https://localhost:8080/",
          "height": 372
        },
        "id": "SSD1kOCqo5Bj",
        "outputId": "04a54262-a0f0-4a77-a116-05ab2904cdde"
      },
      "source": [
        "sns.countplot(df['is_business'])\n",
        "plt.title('is_business')"
      ],
      "execution_count": 26,
      "outputs": [
        {
          "output_type": "stream",
          "text": [
            "/usr/local/lib/python3.7/dist-packages/seaborn/_decorators.py:43: FutureWarning: Pass the following variable as a keyword arg: x. From version 0.12, the only valid positional argument will be `data`, and passing other arguments without an explicit keyword will result in an error or misinterpretation.\n",
            "  FutureWarning\n"
          ],
          "name": "stderr"
        },
        {
          "output_type": "execute_result",
          "data": {
            "text/plain": [
              "Text(0.5, 1.0, 'is_business')"
            ]
          },
          "metadata": {
            "tags": []
          },
          "execution_count": 26
        },
        {
          "output_type": "display_data",
          "data": {
            "image/png": "[encoded data removed]",
            "text/plain": [
              "<Figure size 432x288 with 1 Axes>"
            ]
          },
          "metadata": {
            "tags": [],
            "needs_background": "light"
          }
        }
      ]
    },
    {
      "cell_type": "code",
      "metadata": {
        "id": "-uL_Xdn7sBlM"
      },
      "source": [
        "#calculate Age of Vehicle by using vehicle_year columns\n",
        "Age= []\n",
        "for i in df['vehicle_year']:\n",
        "  Age.append(todays_date.year-i)\n",
        "df['Age_of_vehicle'] = Age"
      ],
      "execution_count": 27,
      "outputs": []
    },
    {
      "cell_type": "code",
      "metadata": {
        "id": "32aVmi30r7UN"
      },
      "source": [
        "# droped columns vehicle_year after calculating Age_of_vehicle\n",
        "df.drop('vehicle_year',axis = 1,inplace=True)"
      ],
      "execution_count": 28,
      "outputs": []
    },
    {
      "cell_type": "code",
      "metadata": {
        "colab": {
          "base_uri": "https://localhost:8080/",
          "height": 356
        },
        "id": "gQiEqOwfs_qy",
        "outputId": "340eed57-cbca-43ee-bae2-e64b67ffdede"
      },
      "source": [
        "sns.distplot(df['Age_of_vehicle'])"
      ],
      "execution_count": 29,
      "outputs": [
        {
          "output_type": "stream",
          "text": [
            "/usr/local/lib/python3.7/dist-packages/seaborn/distributions.py:2557: FutureWarning: `distplot` is a deprecated function and will be removed in a future version. Please adapt your code to use either `displot` (a figure-level function with similar flexibility) or `histplot` (an axes-level function for histograms).\n",
            "  warnings.warn(msg, FutureWarning)\n"
          ],
          "name": "stderr"
        },
        {
          "output_type": "execute_result",
          "data": {
            "text/plain": [
              "<matplotlib.axes._subplots.AxesSubplot at 0x7f86d484e4d0>"
            ]
          },
          "metadata": {
            "tags": []
          },
          "execution_count": 29
        },
        {
          "output_type": "display_data",
          "data": {
            "image/png": "[encoded data removed]",
            "text/plain": [
              "<Figure size 432x288 with 1 Axes>"
            ]
          },
          "metadata": {
            "tags": [],
            "needs_background": "light"
          }
        }
      ]
    },
    {
      "cell_type": "code",
      "metadata": {
        "colab": {
          "base_uri": "https://localhost:8080/",
          "height": 356
        },
        "id": "nowNuNk3wIDb",
        "outputId": "24abc4d7-a598-4fe1-f899-d217974c29fd"
      },
      "source": [
        "sns.boxplot(df['Age_of_vehicle'])\n",
        "# it show that Age_of_vehicle columns data has some countlires"
      ],
      "execution_count": 30,
      "outputs": [
        {
          "output_type": "stream",
          "text": [
            "/usr/local/lib/python3.7/dist-packages/seaborn/_decorators.py:43: FutureWarning: Pass the following variable as a keyword arg: x. From version 0.12, the only valid positional argument will be `data`, and passing other arguments without an explicit keyword will result in an error or misinterpretation.\n",
            "  FutureWarning\n"
          ],
          "name": "stderr"
        },
        {
          "output_type": "execute_result",
          "data": {
            "text/plain": [
              "<matplotlib.axes._subplots.AxesSubplot at 0x7f86cbf213d0>"
            ]
          },
          "metadata": {
            "tags": []
          },
          "execution_count": 30
        },
        {
          "output_type": "display_data",
          "data": {
            "image/png": "[encoded data removed]",
            "text/plain": [
              "<Figure size 432x288 with 1 Axes>"
            ]
          },
          "metadata": {
            "tags": [],
            "needs_background": "light"
          }
        }
      ]
    },
    {
      "cell_type": "code",
      "metadata": {
        "colab": {
          "base_uri": "https://localhost:8080/"
        },
        "id": "exkjD9MgwQxD",
        "outputId": "beca1f51-a230-4f06-e97c-27a73ae1d7be"
      },
      "source": [
        "print(\"Mean: {}\\nMedina: {}\\nMode: {}\".format(df['Age_of_vehicle'].mean(),df['Age_of_vehicle'].median(),df['Age_of_vehicle'].mode()))"
      ],
      "execution_count": 31,
      "outputs": [
        {
          "output_type": "stream",
          "text": [
            "Mean: 8.686145475177856\n",
            "Medina: 8.0\n",
            "Mode: 0    1\n",
            "dtype: int64\n"
          ],
          "name": "stdout"
        }
      ]
    },
    {
      "cell_type": "markdown",
      "metadata": {
        "id": "FbLl1uNU1I9q"
      },
      "source": [
        "In this case we can see that mean > medina > mode i.e Right Skwed/Positive Skwed"
      ]
    },
    {
      "cell_type": "markdown",
      "metadata": {
        "id": "NoBj_Sor2It-"
      },
      "source": [
        "### Outliers Removal"
      ]
    },
    {
      "cell_type": "code",
      "metadata": {
        "id": "n1eguLHL68cm"
      },
      "source": [
        "df = df[zscore(df['Age_of_vehicle']) < 2]\n",
        "df = df[zscore(df['engine_power']) < 3]"
      ],
      "execution_count": 32,
      "outputs": []
    },
    {
      "cell_type": "code",
      "metadata": {
        "colab": {
          "base_uri": "https://localhost:8080/",
          "height": 577
        },
        "id": "NY3tPBuf7Wue",
        "outputId": "157a5f4d-adc2-4a82-e728-6df2e1b33d12"
      },
      "source": [
        "plt.figure(figsize=(10,8))\n",
        "sns.heatmap(df.corr(),annot=True,fmt='.1g',cmap='YlGnBu')\n",
        "plt.show"
      ],
      "execution_count": 33,
      "outputs": [
        {
          "output_type": "execute_result",
          "data": {
            "text/plain": [
              "<function matplotlib.pyplot.show>"
            ]
          },
          "metadata": {
            "tags": []
          },
          "execution_count": 33
        },
        {
          "output_type": "display_data",
          "data": {
            "image/png": "[encoded data removed]",
            "text/plain": [
              "<Figure size 720x576 with 2 Axes>"
            ]
          },
          "metadata": {
            "tags": [],
            "needs_background": "light"
          }
        }
      ]
    },
    {
      "cell_type": "code",
      "metadata": {
        "colab": {
          "base_uri": "https://localhost:8080/",
          "height": 506
        },
        "id": "AtrufQJo7ppg",
        "outputId": "1458afcf-32b1-4de4-cdb9-8638c0ccb866"
      },
      "source": [
        "plt.figure(figsize=(10,8))\n",
        "sns.heatmap(np.tril(df.corr()),annot=True,fmt='.1g',cmap='YlGnBu')\n",
        "plt.show"
      ],
      "execution_count": 34,
      "outputs": [
        {
          "output_type": "execute_result",
          "data": {
            "text/plain": [
              "<function matplotlib.pyplot.show>"
            ]
          },
          "metadata": {
            "tags": []
          },
          "execution_count": 34
        },
        {
          "output_type": "display_data",
          "data": {
            "image/png": "[encoded data removed]",
            "text/plain": [
              "<Figure size 720x576 with 2 Axes>"
            ]
          },
          "metadata": {
            "tags": [],
            "needs_background": "light"
          }
        }
      ]
    },
    {
      "cell_type": "code",
      "metadata": {
        "id": "VIkM0bzCHcU8"
      },
      "source": [
        "for col in df.select_dtypes(include='object').columns:\n",
        "  df[col] = LabelEncoder().fit_transform(df[col])"
      ],
      "execution_count": 35,
      "outputs": []
    },
    {
      "cell_type": "code",
      "metadata": {
        "colab": {
          "base_uri": "https://localhost:8080/",
          "height": 206
        },
        "id": "NdO_mwklx8Nk",
        "outputId": "a00b5739-c584-4b35-8a1c-b21dd14c9ef5"
      },
      "source": [
        "df.head()"
      ],
      "execution_count": 36,
      "outputs": [
        {
          "output_type": "execute_result",
          "data": {
            "text/html": [
              "<div>\n",
              "<style scoped>\n",
              "    .dataframe tbody tr th:only-of-type {\n",
              "        vertical-align: middle;\n",
              "    }\n",
              "\n",
              "    .dataframe tbody tr th {\n",
              "        vertical-align: top;\n",
              "    }\n",
              "\n",
              "    .dataframe thead th {\n",
              "        text-align: right;\n",
              "    }\n",
              "</style>\n",
              "<table border=\"1\" class=\"dataframe\">\n",
              "  <thead>\n",
              "    <tr style=\"text-align: right;\">\n",
              "      <th></th>\n",
              "      <th>make</th>\n",
              "      <th>model</th>\n",
              "      <th>mileage</th>\n",
              "      <th>engine_capacity</th>\n",
              "      <th>engine_power</th>\n",
              "      <th>gearbox</th>\n",
              "      <th>fuel_type</th>\n",
              "      <th>damaged</th>\n",
              "      <th>is_business</th>\n",
              "      <th>target_price</th>\n",
              "      <th>Age_of_vehicle</th>\n",
              "    </tr>\n",
              "  </thead>\n",
              "  <tbody>\n",
              "    <tr>\n",
              "      <th>0</th>\n",
              "      <td>5</td>\n",
              "      <td>83</td>\n",
              "      <td>153817.0</td>\n",
              "      <td>1984.0</td>\n",
              "      <td>180.0</td>\n",
              "      <td>2</td>\n",
              "      <td>4</td>\n",
              "      <td>0</td>\n",
              "      <td>0</td>\n",
              "      <td>69900.0</td>\n",
              "      <td>8</td>\n",
              "    </tr>\n",
              "    <tr>\n",
              "      <th>1</th>\n",
              "      <td>71</td>\n",
              "      <td>315</td>\n",
              "      <td>115000.0</td>\n",
              "      <td>1390.0</td>\n",
              "      <td>75.0</td>\n",
              "      <td>8</td>\n",
              "      <td>4</td>\n",
              "      <td>0</td>\n",
              "      <td>1</td>\n",
              "      <td>8299.0</td>\n",
              "      <td>17</td>\n",
              "    </tr>\n",
              "    <tr>\n",
              "      <th>2</th>\n",
              "      <td>14</td>\n",
              "      <td>178</td>\n",
              "      <td>299000.0</td>\n",
              "      <td>3600.0</td>\n",
              "      <td>323.0</td>\n",
              "      <td>2</td>\n",
              "      <td>4</td>\n",
              "      <td>0</td>\n",
              "      <td>1</td>\n",
              "      <td>54500.0</td>\n",
              "      <td>9</td>\n",
              "    </tr>\n",
              "    <tr>\n",
              "      <th>3</th>\n",
              "      <td>8</td>\n",
              "      <td>694</td>\n",
              "      <td>155000.0</td>\n",
              "      <td>1995.0</td>\n",
              "      <td>163.0</td>\n",
              "      <td>2</td>\n",
              "      <td>0</td>\n",
              "      <td>0</td>\n",
              "      <td>0</td>\n",
              "      <td>62000.0</td>\n",
              "      <td>8</td>\n",
              "    </tr>\n",
              "    <tr>\n",
              "      <th>4</th>\n",
              "      <td>64</td>\n",
              "      <td>759</td>\n",
              "      <td>167000.0</td>\n",
              "      <td>1600.0</td>\n",
              "      <td>130.0</td>\n",
              "      <td>2</td>\n",
              "      <td>0</td>\n",
              "      <td>0</td>\n",
              "      <td>1</td>\n",
              "      <td>52999.0</td>\n",
              "      <td>4</td>\n",
              "    </tr>\n",
              "  </tbody>\n",
              "</table>\n",
              "</div>"
            ],
            "text/plain": [
              "   make  model   mileage  ...  is_business  target_price  Age_of_vehicle\n",
              "0     5     83  153817.0  ...            0       69900.0               8\n",
              "1    71    315  115000.0  ...            1        8299.0              17\n",
              "2    14    178  299000.0  ...            1       54500.0               9\n",
              "3     8    694  155000.0  ...            0       62000.0               8\n",
              "4    64    759  167000.0  ...            1       52999.0               4\n",
              "\n",
              "[5 rows x 11 columns]"
            ]
          },
          "metadata": {
            "tags": []
          },
          "execution_count": 36
        }
      ]
    },
    {
      "cell_type": "markdown",
      "metadata": {
        "id": "MZgvZXMcxlVu"
      },
      "source": [
        "From datasets we can see that there huge difference in value of columns like mileage has four digit value while engine_capacity has 5 to 6 digit value that's why we need to normalize the dataset so our data become in one scale and no huge variance between vlaue of datatsets"
      ]
    },
    {
      "cell_type": "markdown",
      "metadata": {
        "id": "HSNRkVF0WT41"
      },
      "source": [
        "## Normalization"
      ]
    },
    {
      "cell_type": "code",
      "metadata": {
        "id": "pvOKfxXvWQ9T"
      },
      "source": [
        "from sklearn.preprocessing import MinMaxScaler\n",
        "norm = MinMaxScaler()"
      ],
      "execution_count": 37,
      "outputs": []
    },
    {
      "cell_type": "code",
      "metadata": {
        "id": "27fmyjATvHHA"
      },
      "source": [
        "y = df['target_price']"
      ],
      "execution_count": 38,
      "outputs": []
    },
    {
      "cell_type": "code",
      "metadata": {
        "colab": {
          "base_uri": "https://localhost:8080/",
          "height": 206
        },
        "id": "E0txR6BbubB6",
        "outputId": "44723d33-1a3d-43e0-caf4-985e99383d5d"
      },
      "source": [
        "df = pd.DataFrame(norm.fit_transform(df.drop('target_price',axis=1)),columns=df.drop('target_price',axis=1).columns)\n",
        "df.head()"
      ],
      "execution_count": 39,
      "outputs": [
        {
          "output_type": "execute_result",
          "data": {
            "text/html": [
              "<div>\n",
              "<style scoped>\n",
              "    .dataframe tbody tr th:only-of-type {\n",
              "        vertical-align: middle;\n",
              "    }\n",
              "\n",
              "    .dataframe tbody tr th {\n",
              "        vertical-align: top;\n",
              "    }\n",
              "\n",
              "    .dataframe thead th {\n",
              "        text-align: right;\n",
              "    }\n",
              "</style>\n",
              "<table border=\"1\" class=\"dataframe\">\n",
              "  <thead>\n",
              "    <tr style=\"text-align: right;\">\n",
              "      <th></th>\n",
              "      <th>make</th>\n",
              "      <th>model</th>\n",
              "      <th>mileage</th>\n",
              "      <th>engine_capacity</th>\n",
              "      <th>engine_power</th>\n",
              "      <th>gearbox</th>\n",
              "      <th>fuel_type</th>\n",
              "      <th>damaged</th>\n",
              "      <th>is_business</th>\n",
              "      <th>Age_of_vehicle</th>\n",
              "    </tr>\n",
              "  </thead>\n",
              "  <tbody>\n",
              "    <tr>\n",
              "      <th>0</th>\n",
              "      <td>0.060241</td>\n",
              "      <td>0.093574</td>\n",
              "      <td>0.000002</td>\n",
              "      <td>0.200964</td>\n",
              "      <td>0.471053</td>\n",
              "      <td>0.2</td>\n",
              "      <td>0.666667</td>\n",
              "      <td>0.0</td>\n",
              "      <td>0.0</td>\n",
              "      <td>0.380952</td>\n",
              "    </tr>\n",
              "    <tr>\n",
              "      <th>1</th>\n",
              "      <td>0.855422</td>\n",
              "      <td>0.355130</td>\n",
              "      <td>0.000001</td>\n",
              "      <td>0.125603</td>\n",
              "      <td>0.194737</td>\n",
              "      <td>0.8</td>\n",
              "      <td>0.666667</td>\n",
              "      <td>0.0</td>\n",
              "      <td>1.0</td>\n",
              "      <td>0.809524</td>\n",
              "    </tr>\n",
              "    <tr>\n",
              "      <th>2</th>\n",
              "      <td>0.168675</td>\n",
              "      <td>0.200676</td>\n",
              "      <td>0.000003</td>\n",
              "      <td>0.405988</td>\n",
              "      <td>0.847368</td>\n",
              "      <td>0.2</td>\n",
              "      <td>0.666667</td>\n",
              "      <td>0.0</td>\n",
              "      <td>1.0</td>\n",
              "      <td>0.428571</td>\n",
              "    </tr>\n",
              "    <tr>\n",
              "      <th>3</th>\n",
              "      <td>0.096386</td>\n",
              "      <td>0.782413</td>\n",
              "      <td>0.000002</td>\n",
              "      <td>0.202360</td>\n",
              "      <td>0.426316</td>\n",
              "      <td>0.2</td>\n",
              "      <td>0.000000</td>\n",
              "      <td>0.0</td>\n",
              "      <td>0.0</td>\n",
              "      <td>0.380952</td>\n",
              "    </tr>\n",
              "    <tr>\n",
              "      <th>4</th>\n",
              "      <td>0.771084</td>\n",
              "      <td>0.855693</td>\n",
              "      <td>0.000002</td>\n",
              "      <td>0.152246</td>\n",
              "      <td>0.339474</td>\n",
              "      <td>0.2</td>\n",
              "      <td>0.000000</td>\n",
              "      <td>0.0</td>\n",
              "      <td>1.0</td>\n",
              "      <td>0.190476</td>\n",
              "    </tr>\n",
              "  </tbody>\n",
              "</table>\n",
              "</div>"
            ],
            "text/plain": [
              "       make     model   mileage  ...  damaged  is_business  Age_of_vehicle\n",
              "0  0.060241  0.093574  0.000002  ...      0.0          0.0        0.380952\n",
              "1  0.855422  0.355130  0.000001  ...      0.0          1.0        0.809524\n",
              "2  0.168675  0.200676  0.000003  ...      0.0          1.0        0.428571\n",
              "3  0.096386  0.782413  0.000002  ...      0.0          0.0        0.380952\n",
              "4  0.771084  0.855693  0.000002  ...      0.0          1.0        0.190476\n",
              "\n",
              "[5 rows x 10 columns]"
            ]
          },
          "metadata": {
            "tags": []
          },
          "execution_count": 39
        }
      ]
    },
    {
      "cell_type": "markdown",
      "metadata": {
        "id": "VPyDmOopLhc-"
      },
      "source": [
        "Training"
      ]
    },
    {
      "cell_type": "code",
      "metadata": {
        "id": "Ra3XUEoo-fKf"
      },
      "source": [
        "X = df.copy()\n",
        "y = y.copy()"
      ],
      "execution_count": 40,
      "outputs": []
    },
    {
      "cell_type": "code",
      "metadata": {
        "id": "kmyhSoAc9geh"
      },
      "source": [
        "X_train,X_test,y_train,y_test = train_test_split(X,y,random_state= 42)"
      ],
      "execution_count": 41,
      "outputs": []
    },
    {
      "cell_type": "code",
      "metadata": {
        "colab": {
          "base_uri": "https://localhost:8080/"
        },
        "id": "01lBK-m9LO_5",
        "outputId": "01a6d791-1b28-415e-90f7-7eef6e926fc7"
      },
      "source": [
        "X_train.shape, X_test.shape"
      ],
      "execution_count": 42,
      "outputs": [
        {
          "output_type": "execute_result",
          "data": {
            "text/plain": [
              "((147606, 10), (49202, 10))"
            ]
          },
          "metadata": {
            "tags": []
          },
          "execution_count": 42
        }
      ]
    },
    {
      "cell_type": "code",
      "metadata": {
        "colab": {
          "base_uri": "https://localhost:8080/"
        },
        "id": "8_yRN_xULXiA",
        "outputId": "9263090e-181a-451b-b25d-79fb6f2c3b54"
      },
      "source": [
        "y_train.shape,y_test.shape"
      ],
      "execution_count": 43,
      "outputs": [
        {
          "output_type": "execute_result",
          "data": {
            "text/plain": [
              "((147606,), (49202,))"
            ]
          },
          "metadata": {
            "tags": []
          },
          "execution_count": 43
        }
      ]
    },
    {
      "cell_type": "code",
      "metadata": {
        "id": "Tex8qTWsO4vA"
      },
      "source": [
        "def Model_Name(model):\n",
        "  model.fit(X_train,y_train)\n",
        "  pred_y = model.predict(X_test).round(2)\n",
        "  r=r2_score(y_test,pred_y).round(3)\n",
        "  rmse = np.sqrt(mean_squared_error(y_test,pred_y)).round(3)\n",
        "  mae = mean_absolute_error(y_test,pred_y).round(3) \n",
        "\n",
        "  return print(\"r2_Score: {} \\nRMSE: {} \\nMEA: {}\".format(r,rmse,mae))"
      ],
      "execution_count": 50,
      "outputs": []
    },
    {
      "cell_type": "code",
      "metadata": {
        "colab": {
          "base_uri": "https://localhost:8080/"
        },
        "id": "XR9WqiFEPkqR",
        "outputId": "50963ac4-5993-4329-84b4-dd2c7bc76b1d"
      },
      "source": [
        "Model_Name(LinearRegression())"
      ],
      "execution_count": 51,
      "outputs": [
        {
          "output_type": "stream",
          "text": [
            "r2_Score: 0.618 \n",
            "RMSE: 39477.199 \n",
            "MEA: 23155.55\n"
          ],
          "name": "stdout"
        }
      ]
    },
    {
      "cell_type": "code",
      "metadata": {
        "colab": {
          "base_uri": "https://localhost:8080/"
        },
        "id": "sWlux7PAN1Zs",
        "outputId": "c77b1f23-680f-4aa6-951e-67065df47f07"
      },
      "source": [
        "Model_Name(DecisionTreeRegressor())"
      ],
      "execution_count": 52,
      "outputs": [
        {
          "output_type": "stream",
          "text": [
            "r2_Score: 0.846 \n",
            "RMSE: 25073.523 \n",
            "MEA: 7744.458\n"
          ],
          "name": "stdout"
        }
      ]
    },
    {
      "cell_type": "code",
      "metadata": {
        "colab": {
          "base_uri": "https://localhost:8080/"
        },
        "id": "Gks7YzDsP4Zj",
        "outputId": "14d07ee8-c649-4c99-ce6c-1276da6b4fb0"
      },
      "source": [
        "Model_Name(RandomForestRegressor())"
      ],
      "execution_count": 53,
      "outputs": [
        {
          "output_type": "stream",
          "text": [
            "r2_Score: 0.895 \n",
            "RMSE: 20670.639 \n",
            "MEA: 6534.774\n"
          ],
          "name": "stdout"
        }
      ]
    },
    {
      "cell_type": "code",
      "metadata": {
        "colab": {
          "base_uri": "https://localhost:8080/"
        },
        "id": "5TORsXWhQF17",
        "outputId": "fe80d5fd-50cc-4ce5-9d3b-f4e57126d553"
      },
      "source": [
        "Model_Name(GradientBoostingRegressor())"
      ],
      "execution_count": 54,
      "outputs": [
        {
          "output_type": "stream",
          "text": [
            "r2_Score: 0.857 \n",
            "RMSE: 24113.977 \n",
            "MEA: 10300.534\n"
          ],
          "name": "stdout"
        }
      ]
    },
    {
      "cell_type": "code",
      "metadata": {
        "colab": {
          "base_uri": "https://localhost:8080/"
        },
        "id": "l-4JWGzrSidy",
        "outputId": "5ab3463f-61ac-498b-92cd-137860fa3d98"
      },
      "source": [
        "Model_Name(LGBMRegressor())"
      ],
      "execution_count": 55,
      "outputs": [
        {
          "output_type": "stream",
          "text": [
            "r2_Score: 0.889 \n",
            "RMSE: 21285.799 \n",
            "MEA: 8067.524\n"
          ],
          "name": "stdout"
        }
      ]
    },
    {
      "cell_type": "markdown",
      "metadata": {
        "id": "76-0BKxrD2UW"
      },
      "source": [
        "**After Experiment and analysis With Multiple Algorithm i found that RandomForestRegressor and LGBMRegressor has more accuracy**"
      ]
    },
    {
      "cell_type": "code",
      "metadata": {
        "id": "Kij3IOkjH5Bc"
      },
      "source": [
        ""
      ],
      "execution_count": null,
      "outputs": []
    },
    {
      "cell_type": "markdown",
      "metadata": {
        "id": "j-zqDZKlH8c6"
      },
      "source": [
        "\n",
        "\n",
        "1.   RandomForestRegressor     \n",
        "r2_score = .895\n",
        "\n",
        "\n",
        "2.   LGBMRegressor\n",
        "   r2_score = .889\n",
        "\n",
        "\n",
        "\n",
        "\n"
      ]
    },
    {
      "cell_type": "code",
      "metadata": {
        "id": "o9sLfbcyIyIH"
      },
      "source": [
        ""
      ],
      "execution_count": null,
      "outputs": []
    }
  ]
}