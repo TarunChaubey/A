{
  "nbformat": 4,
  "nbformat_minor": 0,
  "metadata": {
    "colab": {
      "name": "Task_2_Part_2.ipynb",
      "provenance": [],
      "collapsed_sections": [],
      "authorship_tag": "ABX9TyPnXR0h7exiUKJqeJIVcR69",
      "include_colab_link": true
    },
    "kernelspec": {
      "name": "python3",
      "display_name": "Python 3"
    },
    "language_info": {
      "name": "python"
    },
    "accelerator": "GPU"
  },
  "cells": [
    {
      "cell_type": "markdown",
      "metadata": {
        "id": "view-in-github",
        "colab_type": "text"
      },
      "source": [
        "<a href=\"https://colab.research.google.com/github/TarunChaubey/A/blob/master/Task_2.ipynb\" target=\"_parent\"><img src=\"https://colab.research.google.com/assets/colab-badge.svg\" alt=\"Open In Colab\"/></a>"
      ]
    },
    {
      "cell_type": "code",
      "metadata": {
        "colab": {
          "base_uri": "https://localhost:8080/"
        },
        "id": "XM3490ILEm9g",
        "outputId": "598646ca-c4bb-439f-95bc-0c66ce9b13d9"
      },
      "source": [
        "from google.colab import drive\n",
        "drive.mount('/content/drive')"
      ],
      "execution_count": 1,
      "outputs": [
        {
          "output_type": "stream",
          "text": [
            "Mounted at /content/drive\n"
          ],
          "name": "stdout"
        }
      ]
    },
    {
      "cell_type": "code",
      "metadata": {
        "id": "ZFQRwPylEIS2"
      },
      "source": [
        "import numpy as np\n",
        "import pandas as pd\n",
        "import os\n",
        "import cv2\n",
        "from sklearn.model_selection import train_test_split\n",
        "import matplotlib.pyplot as plt\n",
        "import tensorflow as tf\n",
        "from tensorflow import keras\n",
        "from keras.utils import np_utils\n",
        "from keras.optimizers import SGD"
      ],
      "execution_count": 2,
      "outputs": []
    },
    {
      "cell_type": "code",
      "metadata": {
        "id": "xMA22x7sGFgE"
      },
      "source": [
        "x_train=[]\n",
        "y_train=[]\n",
        "x_test=[]\n",
        "y_test=[]\n",
        "x_val=[]\n",
        "y_val=[]\n",
        "\n",
        "dim=128"
      ],
      "execution_count": 4,
      "outputs": []
    },
    {
      "cell_type": "code",
      "metadata": {
        "id": "bpiA0nNFGXxR"
      },
      "source": [
        "path_train='/content/drive/MyDrive/Kaggle/eINTERFACE_2021_Image/train'\n",
        "path_test='/content/drive/MyDrive/Kaggle/eINTERFACE_2021_Image/test'\n",
        "path_val='/content/drive/MyDrive/Kaggle/eINTERFACE_2021_Image/val'\n",
        "\n",
        "category={'Anger':0,'Disgust':1,'Fear':2,'Happiness':3,'Sadness':4,'Surprise':5}"
      ],
      "execution_count": 5,
      "outputs": []
    },
    {
      "cell_type": "code",
      "metadata": {
        "id": "u3ydXTIdGX0F"
      },
      "source": [
        "for i in sorted(os.listdir(path_train)):\n",
        "#     print(i)\n",
        "    path=os.path.join(path_train,i)\n",
        "    for j in os.listdir(path):\n",
        "        img=cv2.imread(os.path.join(path,j),0) #grayscaling\n",
        "        img=cv2.resize(img,(dim,dim)) #resizing each image for uniformity\n",
        "        x_train.append(img)\n",
        "        y_train.append(category[i])"
      ],
      "execution_count": 6,
      "outputs": []
    },
    {
      "cell_type": "code",
      "metadata": {
        "colab": {
          "base_uri": "https://localhost:8080/"
        },
        "id": "uCcIf-O4HOnW",
        "outputId": "f0defb20-8e86-45b9-91d3-172109fbc9bc"
      },
      "source": [
        "print('Number of Training images:',len(x_train))\n",
        "print('Number of Labels for training images:',len(y_train))"
      ],
      "execution_count": 7,
      "outputs": [
        {
          "output_type": "stream",
          "text": [
            "Number of Training images: 11475\n",
            "Number of Labels for training images: 11475\n"
          ],
          "name": "stdout"
        }
      ]
    },
    {
      "cell_type": "code",
      "metadata": {
        "id": "3pOx_bGpHOp-"
      },
      "source": [
        "for i in sorted(os.listdir(path_test)):\n",
        "#     print(i)\n",
        "    path=os.path.join(path_test,i)\n",
        "    for j in os.listdir(path):\n",
        "        img=cv2.imread(os.path.join(path,j),0) #grayscaling\n",
        "        img=cv2.resize(img,(dim,dim)) #resizing each image for uniformity\n",
        "        x_test.append(img)\n",
        "        y_test.append(category[i]) "
      ],
      "execution_count": 8,
      "outputs": []
    },
    {
      "cell_type": "code",
      "metadata": {
        "colab": {
          "base_uri": "https://localhost:8080/"
        },
        "id": "6MrgAqozHOsh",
        "outputId": "f46ab675-c7e3-431d-ad3e-df042d37dbef"
      },
      "source": [
        "print('Number of Testing images:',len(x_test))\n",
        "print('Number of Labels for testing images:',len(y_test))"
      ],
      "execution_count": 9,
      "outputs": [
        {
          "output_type": "stream",
          "text": [
            "Number of Testing images: 1438\n",
            "Number of Labels for testing images: 1438\n"
          ],
          "name": "stdout"
        }
      ]
    },
    {
      "cell_type": "code",
      "metadata": {
        "id": "3x8uH7VlHOvI"
      },
      "source": [
        "for i in sorted(os.listdir(path_val)):\n",
        "    #print(i)\n",
        "    path=os.path.join(path_val,i)\n",
        "    for j in os.listdir(path):\n",
        "        img=cv2.imread(os.path.join(path,j),0) #grayscaling\n",
        "        img=cv2.resize(img,(dim,dim)) #resizing each image for uniformity\n",
        "        x_val.append(img)\n",
        "        y_val.append(category[i])"
      ],
      "execution_count": 10,
      "outputs": []
    },
    {
      "cell_type": "code",
      "metadata": {
        "colab": {
          "base_uri": "https://localhost:8080/"
        },
        "id": "hB1ZWE35HOyR",
        "outputId": "1bbac418-0558-41d2-c28c-0518477f52bc"
      },
      "source": [
        "print('Number of Validation images:',len(x_val))\n",
        "\n",
        "print('Number of Labels for validation images:',len(y_val))"
      ],
      "execution_count": 11,
      "outputs": [
        {
          "output_type": "stream",
          "text": [
            "Number of Validation images: 1433\n",
            "Number of Labels for validation images: 1433\n"
          ],
          "name": "stdout"
        }
      ]
    },
    {
      "cell_type": "code",
      "metadata": {
        "colab": {
          "base_uri": "https://localhost:8080/"
        },
        "id": "KELhyK9-HO12",
        "outputId": "c24f215f-ebd9-4776-9c63-9da85bb0e7f1"
      },
      "source": [
        "x_train= np.array(x_train, dtype=\"float\") / 255.0\n",
        "x_test=np.array(x_test,dtype=\"float\") / 255.0\n",
        "x_val= np.array(x_val, dtype=\"float\") / 255.0\n",
        "\n",
        "y_train= np.array(y_train) \n",
        "y_test=np.array(y_test)\n",
        "y_val=np.array(y_val)\n",
        "\n",
        "y_train=np_utils.to_categorical(y_train)\n",
        "y_test=np_utils.to_categorical(y_test)\n",
        "y_val=np_utils.to_categorical(y_val)\n",
        "\n",
        "print(y_train)"
      ],
      "execution_count": 12,
      "outputs": [
        {
          "output_type": "stream",
          "text": [
            "[[1. 0. 0. 0. 0. 0.]\n",
            " [1. 0. 0. 0. 0. 0.]\n",
            " [1. 0. 0. 0. 0. 0.]\n",
            " ...\n",
            " [0. 0. 0. 0. 0. 1.]\n",
            " [0. 0. 0. 0. 0. 1.]\n",
            " [0. 0. 0. 0. 0. 1.]]\n"
          ],
          "name": "stdout"
        }
      ]
    },
    {
      "cell_type": "code",
      "metadata": {
        "colab": {
          "base_uri": "https://localhost:8080/"
        },
        "id": "B6XFlTrdGX3e",
        "outputId": "b1dbe8b9-d745-4696-a853-6d45bea72f22"
      },
      "source": [
        "x_train_reshaped=x_train.reshape(x_train.shape[0],dim,dim,1)\n",
        "x_test_reshaped=x_test.reshape(x_test.shape[0],dim,dim,1)\n",
        "x_val_reshaped=x_val.reshape(x_val.shape[0],dim,dim,1)\n",
        "print(x_train_reshaped.shape)\n",
        "print(x_test_reshaped.shape)\n",
        "print(x_val_reshaped.shape)"
      ],
      "execution_count": 13,
      "outputs": [
        {
          "output_type": "stream",
          "text": [
            "(11475, 128, 128, 1)\n",
            "(1438, 128, 128, 1)\n",
            "(1433, 128, 128, 1)\n"
          ],
          "name": "stdout"
        }
      ]
    },
    {
      "cell_type": "code",
      "metadata": {
        "id": "TmFWaednFA5t"
      },
      "source": [
        "model=keras.models.Sequential()\n",
        "model.add(keras.layers.Conv2D(32, (3,3), input_shape=(dim,dim,1), activation='relu',padding='same'))\n",
        "model.add(keras.layers.Dropout(0.2))\n",
        "model.add(keras.layers.Conv2D(32, (3,3), activation='relu',padding='same'))\n",
        "model.add(keras.layers.MaxPooling2D(pool_size=(2,2)))\n",
        "model.add(keras.layers.Conv2D(64, (3,3), activation='relu',padding='same'))\n",
        "model.add(keras.layers.Dropout(0.2))\n",
        "model.add(keras.layers.Conv2D(64, (3,3), activation='relu',padding='same'))\n",
        "model.add(keras.layers.MaxPooling2D(pool_size=(2,2)))\n",
        "model.add(keras.layers.Conv2D(128, (3,3), activation='relu',padding='same'))\n",
        "model.add(keras.layers.Dropout(0.2))\n",
        "model.add(keras.layers.Conv2D(128, (3,3), activation='relu',padding='same'))\n",
        "model.add(keras.layers.MaxPooling2D(pool_size=(2,2)))\n",
        "model.add(keras.layers.Flatten())\n",
        "model.add(keras.layers.Dense(1024, activation=\"relu\"))\n",
        "model.add(keras.layers.Dropout(0.2))\n",
        "model.add(keras.layers.Dense(512,activation='relu'))\n",
        "model.add(keras.layers.Dropout(0.2))\n",
        "model.add(keras.layers.Dense(6,activation=\"softmax\"))"
      ],
      "execution_count": 14,
      "outputs": []
    },
    {
      "cell_type": "code",
      "metadata": {
        "colab": {
          "base_uri": "https://localhost:8080/"
        },
        "id": "LKvD8vBZFA7r",
        "outputId": "a486fe32-6d09-4eba-a2f7-95033f295195"
      },
      "source": [
        "model.summary()"
      ],
      "execution_count": 15,
      "outputs": [
        {
          "output_type": "stream",
          "text": [
            "Model: \"sequential\"\n",
            "_________________________________________________________________\n",
            "Layer (type)                 Output Shape              Param #   \n",
            "=================================================================\n",
            "conv2d (Conv2D)              (None, 128, 128, 32)      320       \n",
            "_________________________________________________________________\n",
            "dropout (Dropout)            (None, 128, 128, 32)      0         \n",
            "_________________________________________________________________\n",
            "conv2d_1 (Conv2D)            (None, 128, 128, 32)      9248      \n",
            "_________________________________________________________________\n",
            "max_pooling2d (MaxPooling2D) (None, 64, 64, 32)        0         \n",
            "_________________________________________________________________\n",
            "conv2d_2 (Conv2D)            (None, 64, 64, 64)        18496     \n",
            "_________________________________________________________________\n",
            "dropout_1 (Dropout)          (None, 64, 64, 64)        0         \n",
            "_________________________________________________________________\n",
            "conv2d_3 (Conv2D)            (None, 64, 64, 64)        36928     \n",
            "_________________________________________________________________\n",
            "max_pooling2d_1 (MaxPooling2 (None, 32, 32, 64)        0         \n",
            "_________________________________________________________________\n",
            "conv2d_4 (Conv2D)            (None, 32, 32, 128)       73856     \n",
            "_________________________________________________________________\n",
            "dropout_2 (Dropout)          (None, 32, 32, 128)       0         \n",
            "_________________________________________________________________\n",
            "conv2d_5 (Conv2D)            (None, 32, 32, 128)       147584    \n",
            "_________________________________________________________________\n",
            "max_pooling2d_2 (MaxPooling2 (None, 16, 16, 128)       0         \n",
            "_________________________________________________________________\n",
            "flatten (Flatten)            (None, 32768)             0         \n",
            "_________________________________________________________________\n",
            "dense (Dense)                (None, 1024)              33555456  \n",
            "_________________________________________________________________\n",
            "dropout_3 (Dropout)          (None, 1024)              0         \n",
            "_________________________________________________________________\n",
            "dense_1 (Dense)              (None, 512)               524800    \n",
            "_________________________________________________________________\n",
            "dropout_4 (Dropout)          (None, 512)               0         \n",
            "_________________________________________________________________\n",
            "dense_2 (Dense)              (None, 6)                 3078      \n",
            "=================================================================\n",
            "Total params: 34,369,766\n",
            "Trainable params: 34,369,766\n",
            "Non-trainable params: 0\n",
            "_________________________________________________________________\n"
          ],
          "name": "stdout"
        }
      ]
    },
    {
      "cell_type": "code",
      "metadata": {
        "colab": {
          "base_uri": "https://localhost:8080/"
        },
        "id": "iuIsrS63EbtO",
        "outputId": "c9433b39-0cd0-4d80-b249-b0717f43e440"
      },
      "source": [
        "epoch=50\n",
        "learning_rate=0.01\n",
        "decay_rate=learning_rate/epoch\n",
        "momentum=0.8\n",
        "sgd=SGD(lr=learning_rate,momentum=momentum,decay=decay_rate)"
      ],
      "execution_count": 16,
      "outputs": [
        {
          "output_type": "stream",
          "text": [
            "/usr/local/lib/python3.7/dist-packages/tensorflow/python/keras/optimizer_v2/optimizer_v2.py:375: UserWarning: The `lr` argument is deprecated, use `learning_rate` instead.\n",
            "  \"The `lr` argument is deprecated, use `learning_rate` instead.\")\n"
          ],
          "name": "stderr"
        }
      ]
    },
    {
      "cell_type": "code",
      "metadata": {
        "id": "YkxNEPCLH0Ia"
      },
      "source": [
        "callback = keras.callbacks.EarlyStopping(monitor='val_loss', patience=3)"
      ],
      "execution_count": 17,
      "outputs": []
    },
    {
      "cell_type": "code",
      "metadata": {
        "id": "lya6bk5sH0E9"
      },
      "source": [
        "model.compile(loss='categorical_crossentropy',\n",
        "              optimizer=sgd,\n",
        "              metrics=['accuracy'])"
      ],
      "execution_count": 18,
      "outputs": []
    },
    {
      "cell_type": "code",
      "metadata": {
        "id": "drQRgRZhIXEZ"
      },
      "source": [
        "#model.save_weights(\"my_initial_weights.h5\")"
      ],
      "execution_count": 19,
      "outputs": []
    },
    {
      "cell_type": "code",
      "metadata": {
        "colab": {
          "base_uri": "https://localhost:8080/"
        },
        "id": "9ZUaHtRVH0B3",
        "outputId": "e07918f2-6aee-46f7-94a0-fa93cdc5b448"
      },
      "source": [
        "model_history=model.fit(x_train_reshaped,y_train,batch_size=32,epochs=epoch,validation_data=(x_val_reshaped,y_val),shuffle=True, callbacks=[callback])"
      ],
      "execution_count": 20,
      "outputs": [
        {
          "output_type": "stream",
          "text": [
            "Epoch 1/50\n",
            "359/359 [==============================] - 52s 53ms/step - loss: 1.5859 - accuracy: 0.3279 - val_loss: 1.3778 - val_accuracy: 0.4752\n",
            "Epoch 2/50\n",
            "359/359 [==============================] - 18s 49ms/step - loss: 1.1108 - accuracy: 0.5576 - val_loss: 0.9201 - val_accuracy: 0.6518\n",
            "Epoch 3/50\n",
            "359/359 [==============================] - 18s 50ms/step - loss: 0.8086 - accuracy: 0.6956 - val_loss: 0.7417 - val_accuracy: 0.7334\n",
            "Epoch 4/50\n",
            "359/359 [==============================] - 18s 51ms/step - loss: 0.5843 - accuracy: 0.7861 - val_loss: 0.5801 - val_accuracy: 0.7934\n",
            "Epoch 5/50\n",
            "359/359 [==============================] - 19s 52ms/step - loss: 0.4486 - accuracy: 0.8356 - val_loss: 0.4509 - val_accuracy: 0.8395\n",
            "Epoch 6/50\n",
            "359/359 [==============================] - 19s 52ms/step - loss: 0.3602 - accuracy: 0.8709 - val_loss: 0.4277 - val_accuracy: 0.8660\n",
            "Epoch 7/50\n",
            "359/359 [==============================] - 19s 52ms/step - loss: 0.2765 - accuracy: 0.9011 - val_loss: 0.2971 - val_accuracy: 0.8960\n",
            "Epoch 8/50\n",
            "359/359 [==============================] - 19s 52ms/step - loss: 0.2305 - accuracy: 0.9157 - val_loss: 0.2492 - val_accuracy: 0.9037\n",
            "Epoch 9/50\n",
            "359/359 [==============================] - 19s 52ms/step - loss: 0.1890 - accuracy: 0.9319 - val_loss: 0.2297 - val_accuracy: 0.9149\n",
            "Epoch 10/50\n",
            "359/359 [==============================] - 19s 52ms/step - loss: 0.1598 - accuracy: 0.9439 - val_loss: 0.2351 - val_accuracy: 0.9142\n",
            "Epoch 11/50\n",
            "359/359 [==============================] - 19s 52ms/step - loss: 0.1272 - accuracy: 0.9541 - val_loss: 0.1755 - val_accuracy: 0.9400\n",
            "Epoch 12/50\n",
            "359/359 [==============================] - 19s 52ms/step - loss: 0.1141 - accuracy: 0.9592 - val_loss: 0.1494 - val_accuracy: 0.9470\n",
            "Epoch 13/50\n",
            "359/359 [==============================] - 19s 53ms/step - loss: 0.1029 - accuracy: 0.9620 - val_loss: 0.2238 - val_accuracy: 0.9197\n",
            "Epoch 14/50\n",
            "359/359 [==============================] - 19s 52ms/step - loss: 0.0855 - accuracy: 0.9698 - val_loss: 0.1693 - val_accuracy: 0.9400\n",
            "Epoch 15/50\n",
            "359/359 [==============================] - 19s 52ms/step - loss: 0.0714 - accuracy: 0.9748 - val_loss: 0.1311 - val_accuracy: 0.9567\n",
            "Epoch 16/50\n",
            "359/359 [==============================] - 19s 52ms/step - loss: 0.0606 - accuracy: 0.9788 - val_loss: 0.1349 - val_accuracy: 0.9553\n",
            "Epoch 17/50\n",
            "359/359 [==============================] - 19s 52ms/step - loss: 0.0533 - accuracy: 0.9806 - val_loss: 0.1423 - val_accuracy: 0.9518\n",
            "Epoch 18/50\n",
            "359/359 [==============================] - 19s 52ms/step - loss: 0.0515 - accuracy: 0.9813 - val_loss: 0.1245 - val_accuracy: 0.9602\n",
            "Epoch 19/50\n",
            "359/359 [==============================] - 19s 52ms/step - loss: 0.0493 - accuracy: 0.9826 - val_loss: 0.1107 - val_accuracy: 0.9616\n",
            "Epoch 20/50\n",
            "359/359 [==============================] - 19s 52ms/step - loss: 0.0418 - accuracy: 0.9846 - val_loss: 0.1229 - val_accuracy: 0.9588\n",
            "Epoch 21/50\n",
            "359/359 [==============================] - 19s 52ms/step - loss: 0.0394 - accuracy: 0.9861 - val_loss: 0.1059 - val_accuracy: 0.9651\n",
            "Epoch 22/50\n",
            "359/359 [==============================] - 19s 52ms/step - loss: 0.0301 - accuracy: 0.9893 - val_loss: 0.1121 - val_accuracy: 0.9651\n",
            "Epoch 23/50\n",
            "359/359 [==============================] - 19s 52ms/step - loss: 0.0342 - accuracy: 0.9885 - val_loss: 0.0964 - val_accuracy: 0.9679\n",
            "Epoch 24/50\n",
            "359/359 [==============================] - 19s 53ms/step - loss: 0.0268 - accuracy: 0.9910 - val_loss: 0.1193 - val_accuracy: 0.9609\n",
            "Epoch 25/50\n",
            "359/359 [==============================] - 19s 52ms/step - loss: 0.0240 - accuracy: 0.9918 - val_loss: 0.0988 - val_accuracy: 0.9686\n",
            "Epoch 26/50\n",
            "359/359 [==============================] - 19s 52ms/step - loss: 0.0248 - accuracy: 0.9921 - val_loss: 0.1041 - val_accuracy: 0.9630\n"
          ],
          "name": "stdout"
        }
      ]
    },
    {
      "cell_type": "code",
      "metadata": {
        "colab": {
          "base_uri": "https://localhost:8080/",
          "height": 324
        },
        "id": "fOALdYYxHz-_",
        "outputId": "1fe3f866-b7b0-4b53-98ca-742f2e6bbffc"
      },
      "source": [
        "pd.DataFrame(model_history.history).plot(figsize=(8,5))\n",
        "plt.grid(True)\n",
        "plt.gca().set_ylim(0,1)\n",
        "plt.show()"
      ],
      "execution_count": 21,
      "outputs": [
        {
          "output_type": "display_data",
          "data": {
            "image/png": "[encoded data removed]",
            "text/plain": [
              "<Figure size 576x360 with 1 Axes>"
            ]
          },
          "metadata": {
            "tags": [],
            "needs_background": "light"
          }
        }
      ]
    },
    {
      "cell_type": "code",
      "metadata": {
        "colab": {
          "base_uri": "https://localhost:8080/"
        },
        "id": "ccf__-G4IRaa",
        "outputId": "345a4b1c-0af6-482c-d5b1-2592dc5bef24"
      },
      "source": [
        "model.evaluate(x_test_reshaped,y_test)"
      ],
      "execution_count": 22,
      "outputs": [
        {
          "output_type": "stream",
          "text": [
            "45/45 [==============================] - 1s 26ms/step - loss: 0.1464 - accuracy: 0.9604\n"
          ],
          "name": "stdout"
        },
        {
          "output_type": "execute_result",
          "data": {
            "text/plain": [
              "[0.14639827609062195, 0.9603615999221802]"
            ]
          },
          "metadata": {
            "tags": []
          },
          "execution_count": 22
        }
      ]
    },
    {
      "cell_type": "code",
      "metadata": {
        "id": "KAJ0_Ft4WoLM"
      },
      "source": [
        ""
      ],
      "execution_count": null,
      "outputs": []
    }
  ]
}